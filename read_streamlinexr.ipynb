{
 "cells": [
  {
   "cell_type": "code",
   "execution_count": 1,
   "metadata": {},
   "outputs": [
    {
     "name": "stderr",
     "output_type": "stream",
     "text": [
      "\u001b[32m\u001b[1m  Activating\u001b[22m\u001b[39m project at `~/Projects/ASTRAL/lidar/lidar2019`\n"
     ]
    }
   ],
   "source": [
    "using Pkg; Pkg.activate(\"/Users/deszoeks/Projects/ASTRAL/lidar/lidar2019\")\n",
    "\n",
    "using Revise\n",
    "using Dates\n",
    "\n",
    "# using CSV\n",
    "# using DataFrames\n",
    "using DelimitedFiles\n",
    "using Printf\n",
    "using PyPlot"
   ]
  },
  {
   "cell_type": "code",
   "execution_count": 7,
   "metadata": {},
   "outputs": [
    {
     "data": {
      "text/plain": [
       "m2n (generic function with 1 method)"
      ]
     },
     "execution_count": 7,
     "metadata": {},
     "output_type": "execute_result"
    }
   ],
   "source": [
    "pd = permutedims\n",
    "m2n(x) = ismissing(x) ? NaN : x"
   ]
  },
  {
   "cell_type": "code",
   "execution_count": 49,
   "metadata": {},
   "outputs": [
    {
     "data": {
      "text/plain": [
       "plot_stare (generic function with 1 method)"
      ]
     },
     "execution_count": 49,
     "metadata": {},
     "output_type": "execute_result"
    }
   ],
   "source": [
    "# functions for reading hpl files\n",
    "\n",
    "\"count the headlines before a line that starts with ****\"\n",
    "function numheaderlines(file)\n",
    "    n = 0 \n",
    "    open(file) do f\n",
    "        while !startswith( readline(f), \"****\" )\n",
    "            n += 1\n",
    "        end\n",
    "    end\n",
    "    return n + 1\n",
    "end\n",
    "\n",
    "\"\"\"\n",
    "header = read_streamlinexr_head(file_path)\n",
    "Read the Halo Photonics StreamLineXR .hpl file header.\n",
    "\"\"\"\n",
    "function read_streamlinexr_head(file_path)\n",
    "    # put the header in a Dict\n",
    "    h = Dict(\n",
    "        :nlines => countlines(file_path),\n",
    "        :nheaderlines => \n",
    "        # variables defined outside the do block, defaults will be overwritten.\n",
    "        :ngates => Int32(104),\n",
    "        :gatelength => 30.0,\n",
    "        :nrays => Int32(1), # or 40\n",
    "        :start_time => DateTime(2024,5,2,10,0,0),\n",
    "        :vel_resolution => 0.0380,\n",
    "        :headr1 => split(\"time Azimuth Elevation Pitch Roll\"),\n",
    "        :units1 => split(\"hours degrees degrees degrees degrees\"),\n",
    "        :headr2 => [\"Range Gate\", \"Doppler\", \"Intensity\", \"Beta\"],\n",
    "        :units2 => [\"none\", \"(m/s)\", \"(SNR + 1)\", \"(m-1 sr-1)\"]\n",
    "    )\n",
    "\n",
    "    # open and read the file header, updating the header dict a\n",
    "    open(file_path) do file\n",
    "        for _ in 1:2 # skip lines\n",
    "            readline(file)\n",
    "        end\n",
    "\n",
    "        # read number of gates from line 3\n",
    "        h[:ngates] = parse(Int32, last(split(readline(file)))) # 104\n",
    "        # read gate length from line 4\n",
    "        h[:gatelength] = parse(Float64, last(split(readline(file))))\n",
    "        for _ in 5:6 # skip\n",
    "            readline(file)\n",
    "        end\n",
    "\n",
    "        # read number of rays from line 7\n",
    "        h[:nrays] = parse(Int32, last(split(readline(file)))) # 1 for Stare or 40 for User\n",
    "        for _ in 8:9 # skip\n",
    "            readline(file)\n",
    "        end\n",
    "\n",
    "        # read start time from line 10\n",
    "        tl = split(readline(file))\n",
    "        h[:start_time] = DateTime(tl[end-1]*tl[end], \"yyyymmddHH:MM:SS.ss\")\n",
    "        # read velocity resolution (m/s) line 11\n",
    "        h[:vel_resolution] = parse(Float64, last(split(readline(file))))\n",
    "        readline(file) # skip line 12\n",
    "        # read header 1 from line 13\n",
    "        hdrln = split(readline(file))[5:end]\n",
    "        h[:headr1] = hdrln[1:2:end]\n",
    "        h[:units1] = hdrln[2:2:end]\n",
    "        readline(file) # skip line 14\n",
    "        # read header 2 from line 15\n",
    "        hdrln = split(readline(file))[4:end] # but don't parse it\n",
    "        h[:headr2] = [\"Range Gate\", \"Doppler\", \"Intensity\", \"Beta\"]\n",
    "        h[:units2] = [\"none\", \"(m/s)\", \"(SNR + 1)\", \"(m-1 sr-1)\"]\n",
    "        # for _ in 16:17 # skip\n",
    "        #     readline(file)\n",
    "        # end\n",
    "    end\n",
    "\n",
    "    return h\n",
    "end\n",
    "\n",
    "\"\"\"\n",
    "modifying read_streamlinexr_data!(file_path, header, beams)\n",
    "Read data and fill in the beams.\n",
    "\"\"\"\n",
    "function read_streamlinexr_stare!(file_path, h, beams, nheaderlines=17)\n",
    "    # use header information in h\n",
    "    nlines = h[:nlines]\n",
    "    ngates = h[:ngates]\n",
    "\n",
    "    # beams could be rays or times\n",
    "    nbeams = round(Int, (nlines-nheaderlines) / (1+ngates)) # = nrays*ntimes\n",
    "    beam_timeangles = zeros(nbeams, 5)\n",
    "    beam_velrad = zeros(nbeams, ngates, 4)\n",
    "\n",
    "    # for User wind profiles beam <--> VAD ray\n",
    "    # for Stare beam <--> time\n",
    "\n",
    "    # open and read the file\n",
    "    open(file_path) do file\n",
    "        for _ in 1:nheaderlines # skip header lines\n",
    "            readline(file)\n",
    "        end\n",
    "\n",
    "        # now read data\n",
    "        for ibeam = 1:nbeams\n",
    "            # beam described by a batch of 1+ngates lines\n",
    "            # Read the beam parameter line\n",
    "            line = readline(file)\n",
    "            beam_timeangles[ibeam,:] .= parse.(Float64, split(line))\n",
    "            # Read each gate in the beam\n",
    "            for igate = 1:ngates\n",
    "                line = readline(file)\n",
    "                beam_velrad[ibeam, igate,:] .= parse.(Float64, split(line))\n",
    "            end\n",
    "        end\n",
    "    end # close the file\n",
    "\n",
    "    # parse the variables into the dict beams\n",
    "    # by beam\n",
    "    beams[:time     ] .= beam_timeangles[:,1] # decimal hours\n",
    "    beams[:azimuth  ] .= beam_timeangles[:,2] # degrees\n",
    "    beams[:elevangle] .= beam_timeangles[:,3] # degrees\n",
    "    beams[:pitch    ] .= beam_timeangles[:,4]\n",
    "    beams[:roll     ] .= beam_timeangles[:,5]\n",
    "    # by gate\n",
    "    beams[:height   ] .= (beam_velrad[1,:,1].+0.5) .* h[:gatelength] # center of gate, assumes same for all beams\n",
    "\n",
    "    # dependent variables (beam, gate)\n",
    "    beams[:dopplervel] .= beam_velrad[:,:,2] # m/s\n",
    "    beams[:intensity ] .= beam_velrad[:,:,3] # SNR + 1\n",
    "    beams[:beta      ] .= beam_velrad[:,:,4] # m-1 sr-1  backscatter?\n",
    "end\n",
    "\n",
    "\"\"\"\n",
    "beams, h = read_streamlinexr(file_path)\n",
    "Read the Photonics StreamLineXR .hpl file data and header.\n",
    "\"\"\"\n",
    "function read_streamlinexr_stare(file_path, nheaderlines=17)\n",
    "    # use header information in h\n",
    "    h = read_streamlinexr_head(file_path)\n",
    "    nlines = h[:nlines]\n",
    "    ngates = h[:ngates]\n",
    "\n",
    "    # beams could be rays or times\n",
    "    nbeams = round(Int, (nlines-17) / (1+ngates)) # = nrays*ntimes\n",
    "    # initialize a beams Dict\n",
    "    beams = Dict(\n",
    "        :time      => Vector{Union{Float32,Missing}}(missing, nbeams), # decimal hours\n",
    "        :azimuth   => Vector{Union{Float32,Missing}}(missing, nbeams), # degrees\n",
    "        :elevangle => Vector{Union{Float32,Missing}}(missing, nbeams),\n",
    "        :pitch     => Vector{Union{Float32,Missing}}(missing, nbeams),\n",
    "        :roll      => Vector{Union{Float32,Missing}}(missing, nbeams),\n",
    "\n",
    "        :height    => Vector{Union{Float32,Missing}}(missing, ngates), # center of gate\n",
    "\n",
    "        # dependent variables (beam, gate)\n",
    "        :dopplervel => Matrix{Union{Float32,Missing}}(missing, nbeams,ngates), # m/s\n",
    "        :intensity  => Matrix{Union{Float32,Missing}}(missing, nbeams,ngates), # SNR + 1\n",
    "        :beta       => Matrix{Union{Float32,Missing}}(missing, nbeams,ngates) # m-1 sr-1  backscatter?\n",
    "        )\n",
    "\n",
    "    # read file and fill beams with data\n",
    "    read_streamlinexr_stare!(file_path, h, beams, nheaderlines)\n",
    "    return beams, h\n",
    "end\n",
    "\n",
    "function plot_stare(beams)\n",
    "    subplot(2,1,1)\n",
    "    pcolormesh(beams[:time][:], beams[:height][3:end]/1e3, pd(beams[:intensity][:,3:end].-1),\n",
    "        cmap=ColorMap(\"RdYlBu_r\"))\n",
    "    ylim([0, 2])\n",
    "    colorbar()\n",
    "\n",
    "    X = beams[:dopplervel]\n",
    "    X[beams[:intensity] .<= 1.02] .= NaN\n",
    "    subplot(2,1,2)\n",
    "    pcolormesh(beams[:time][:], beams[:height][4:end]/1e3, pd(X[:,4:end]),\n",
    "        cmap=ColorMap(\"RdYlBu_r\"), vmin=-3, vmax=3)\n",
    "    ylim([0, 2])\n",
    "    colorbar()\n",
    "    \n",
    "    tight_layout()\n",
    "    return gcf()\n",
    "end\n"
   ]
  },
  {
   "cell_type": "code",
   "execution_count": 5,
   "metadata": {},
   "outputs": [
    {
     "data": {
      "text/plain": [
       "(Dict{Symbol, Array{Union{Missing, Float32}}}(:time => [6.0052776f0, 6.0055637f0, 6.0058475f0, 6.0061307f0, 6.006414f0, 6.006697f0, 6.0069833f0, 6.0072665f0, 6.00755f0, 6.0078335f0  …  6.997439f0, 6.997722f0, 6.9980054f0, 6.998289f0, 6.9985723f0, 6.9988556f0, 6.9991417f0, 6.999425f0, 6.999708f0, 6.999992f0], :dopplervel => [0.0382f0 -0.1147f0 … 7.7205f0 -16.7405f0; 0.0f0 -0.1529f0 … -0.8791f0 -17.7343f0; … ; 0.0f0 -0.1529f0 … 0.4969f0 -0.7262f0; 0.0382f0 -0.1529f0 … 9.6698f0 -0.8026f0], :roll => [-1.42f0, -3.15f0, -0.4f0, -1.21f0, -0.4f0, -2.54f0, -0.19f0, -1.83f0, 0.21f0, -3.05f0  …  -1.01f0, -0.3f0, -0.4f0, -1.52f0, -2.44f0, -1.93f0, -0.6f0, 0.32f0, -0.3f0, -0.7f0], :beta => [1.447753f-7 2.634481f-7 … 2.44864f-6 7.376238f-7; 4.074031f-7 5.508617f-7 … 3.648129f-6 1.763072f-6; … ; 1.778243f-7 7.51334f-8 … 3.888082f-6 4.484677f-7; 6.168411f-7 6.081364f-7 … 2.478664f-6 2.857824f-6], :elevangle => [90.02f0, 90.0f0, 90.0f0, 90.0f0, 90.0f0, 90.0f0, 90.0f0, 90.0f0, 90.0f0, 90.0f0  …  90.0f0, 90.0f0, 90.0f0, 90.0f0, 90.0f0, 90.0f0, 90.0f0, 90.0f0, 90.0f0, 90.0f0], :azimuth => [359.99f0, 0.0f0, 0.0f0, 0.0f0, 0.0f0, 0.0f0, 0.0f0, 0.0f0, 0.0f0, 0.0f0  …  0.0f0, 0.0f0, 360.0f0, 0.0f0, 0.0f0, 0.0f0, 0.0f0, 0.0f0, 0.0f0, 360.0f0], :height => [12.0f0, 36.0f0, 60.0f0, 84.0f0, 108.0f0, 132.0f0, 156.0f0, 180.0f0, 204.0f0, 228.0f0  …  3372.0f0, 3396.0f0, 3420.0f0, 3444.0f0, 3468.0f0, 3492.0f0, 3516.0f0, 3540.0f0, 3564.0f0, 3588.0f0], :intensity => [1.002571f0 1.004674f0 … 1.006637f0 1.001976f0; 1.007235f0 1.009773f0 … 1.009888f0 1.004723f0; … ; 1.003158f0 1.001333f0 … 1.010539f0 1.001201f0; 1.010954f0 1.010789f0 … 1.006718f0 1.007655f0], :pitch => [0.11f0, 0.21f0, 0.62f0, -0.4f0, -0.51f0, 0.11f0, 0.41f0, -0.61f0, -0.2f0, 0.0f0  …  0.21f0, 0.82f0, 0.82f0, 0.21f0, -0.2f0, -0.2f0, -0.2f0, -0.2f0, 0.11f0, 0.62f0]), Dict{Symbol, Any}(:start_time => DateTime(\"2024-05-08T06:00:20.020\"), :headr2 => [\"Range Gate\", \"Doppler\", \"Intensity\", \"Beta\"], :headr1 => SubString{String}[\"time\", \"Azimuth\", \"Elevation\", \"Pitch\", \"Roll\"], :units1 => SubString{String}[\"(hours)\", \"(degrees)\", \"(degrees)\", \"(degrees)\", \"(degrees)\"], :nlines => 483519, :nrays => 1, :units2 => [\"none\", \"(m/s)\", \"(SNR + 1)\", \"(m-1 sr-1)\"], :gatelength => 24.0, :nheaderlines => (:ngates => 104), :vel_resolution => 0.0382…))"
      ]
     },
     "execution_count": 5,
     "metadata": {},
     "output_type": "execute_result"
    }
   ],
   "source": [
    "lidardir = \"./data/lidar\"\n",
    "datestamp = \"20240508\"\n",
    "datafile = joinpath(lidardir, datestamp, \"Stare_116_$(datestamp)_06.hpl\")\n",
    "\n",
    "beams, head = read_streamlinexr_stare(datafile)"
   ]
  },
  {
   "cell_type": "code",
   "execution_count": 51,
   "metadata": {},
   "outputs": [
    {
     "ename": "LoadError",
     "evalue": "IOError: readdir(\"./data/lidar/.DS_Store\"): not a directory (ENOTDIR)",
     "output_type": "error",
     "traceback": [
      "IOError: readdir(\"./data/lidar/.DS_Store\"): not a directory (ENOTDIR)",
      "",
      "Stacktrace:",
      " [1] uv_error",
      "   @ ./libuv.jl:100 [inlined]",
      " [2] readdir(dir::String; join::Bool, sort::Bool)",
      "   @ Base.Filesystem ./file.jl:869",
      " [3] readdir(dir::String)",
      "   @ Base.Filesystem ./file.jl:862",
      " [4] top-level scope",
      "   @ ./In[51]:3"
     ]
    }
   ],
   "source": [
    "# plot it\n",
    "for datestamp in filter(startswith(\"2024\"), readdir(lidardir))\n",
    "    for starefile in filter(startswith(\"Stare\"), readdir(joinpath(lidardir,datestamp)))\n",
    "        beams, head = read_streamlinexr_stare(starefile)\n",
    "        clf()\n",
    "        plot_stare(beams)\n",
    "        fileout = \"Stare_$(datestamp)_06.png\"\n",
    "        savefig(joinpath(lidardir,\"plot\",fileout))\n",
    "        print(fileout*\", \")\n",
    "    end\n",
    "    print(\"\\n\")\n",
    "end"
   ]
  },
  {
   "cell_type": "code",
   "execution_count": null,
   "metadata": {},
   "outputs": [],
   "source": []
  }
 ],
 "metadata": {
  "kernelspec": {
   "display_name": "julia 1.10.3",
   "language": "julia",
   "name": "julia-1.10"
  },
  "language_info": {
   "file_extension": ".jl",
   "mimetype": "application/julia",
   "name": "julia",
   "version": "1.10.3"
  }
 },
 "nbformat": 4,
 "nbformat_minor": 2
}
