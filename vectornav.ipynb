{
 "cells": [
  {
   "cell_type": "code",
   "execution_count": 27,
   "metadata": {},
   "outputs": [
    {
     "name": "stderr",
     "output_type": "stream",
     "text": [
      "\u001b[32m\u001b[1m  Activating\u001b[22m\u001b[39m project at `~/Projects/ASTRAL/lidar`\n"
     ]
    }
   ],
   "source": [
    "using Revise\n",
    "using Pkg; Pkg.activate(\".\")\n",
    "\n",
    "using Dates\n",
    "using Statistics\n",
    "using Interpolations\n",
    "using PyPlot\n",
    "using MAT\n",
    "using JLD2\n",
    "\n",
    "# include(\"../mast/readers.jl\")\n",
    "# using .ShipPosmv"
   ]
  },
  {
   "cell_type": "markdown",
   "metadata": {},
   "source": [
    "from file: vectornav.h\n",
    "\n",
    "#define IDX_TIMEGPS 0\n",
    "#define IDX_YAW 1\n",
    "#define IDX_PITCH 2\n",
    "#define IDX_ROLL 3\n",
    "#define IDX_QUAT0 4\n",
    "#define IDX_QUAT1 5\n",
    "#define IDX_QUAT2 6\n",
    "#define IDX_QUAT3 7\n",
    "#define IDX_LATITUDE 8\n",
    "#define IDX_LONGITUDE 9\n",
    "#define IDX_ALTITUDE 10\n",
    "#define IDX_MAGNED0 11\n",
    "#define IDX_MAGNED1 12\n",
    "#define IDX_MAGNED2 13\n",
    "#define IDX_LINACC0 14\n",
    "#define IDX_LINACC1 15\n",
    "#define IDX_LINACC2 16\n",
    "#define IDX_VELNED0 17\n",
    "#define IDX_VELNED1 18\n",
    "#define IDX_VELNED2 19\n",
    "\n",
    "from file:  vectornav.cpp\n",
    "\n",
    "  shared_memory->name(\n",
    "    \"GpsTime\",\n",
    "    \"Yaw\", \"Pitch\", \"Roll\",\n",
    "    \"Quat0\", \"Quat1\", \"Quat2\", \"Quat3\",\n",
    "    \"Latitude\", \"Longitude\", \"Altitude\",\n",
    "    \"MagNED0\", \"MagNED1\", \"MagNED2\",\n",
    "    \"LinAcc0\", \"LinAcc1\", \"LinAcc2\",\n",
    "    \"VelNED0\", \"VelNED1\", \"VelNED2\");\n",
    "\n",
    "To decode these variables, you need to look at the VectorNav variable description located in \\ceees-lidar-platform-master\\lib-src\\vnproglib-1.1\\index.html\n",
    "under sensor class."
   ]
  },
  {
   "cell_type": "code",
   "execution_count": 2,
   "metadata": {},
   "outputs": [
    {
     "data": {
      "text/plain": [
       "read_vecnav_dict (generic function with 1 method)"
      ]
     },
     "execution_count": 2,
     "metadata": {},
     "output_type": "execute_result"
    }
   ],
   "source": [
    "# function to read the VectorNav file\n",
    "# line:\n",
    "# Tue Mar 28 13:17:11 2023 +0000, 9431257000, -163.267792, -1.067281, -1.441135, -0.011044, 0.011087, -0.989255, 0.145364, 0.000000, 0.000000, 0.000000, 0.234963, -0.005458, 0.101274, 0.432598, -0.534912, -9.797964, 0.000000, 0.000000, 0.000000\n",
    "#\n",
    "# 21 science data fields delimited by commas\n",
    "\n",
    "function read_vevnav_data( file )\n",
    "    # allocate arrays\n",
    "    nlmax = countlines(file)\n",
    "    dt = Vector{DateTime}(undef, nlmax)\n",
    "    intdata = Matrix{Int64}(undef, nlmax, 2)\n",
    "    data = Matrix{Float32}(undef, nlmax, 19)\n",
    "\n",
    "    # read it >>BLACK PUMAS<<\n",
    "    nl = 0\n",
    "    df = dateformat\"uuuHH:MM:SSyyyy\"\n",
    "    open( file ) do f\n",
    "        for line in readlines(f)\n",
    "            # Tue Mar 28 13:17:11 2023 +0000, 9431257000, -163.267792, -1.067281, -1.441135, -0.011044, 0.011087, -0.989255, 0.145364, 0.000000, 0.000000, 0.000000, 0.234963, -0.005458, 0.101274, 0.432598, -0.534912, -9.797964, 0.000000, 0.000000, 0.000000\n",
    "            nl += 1\n",
    "            spl = split(line, r\"[\\ ,]+\")\n",
    "            try\n",
    "                dt[nl] = ( \n",
    "                    DateTime(spl[2], dateformat\"u\") + Day(parse(Int8, spl[3])) \n",
    "                  + Year(parse(Int16, spl[5])-1) \n",
    "                  +(DateTime(spl[4], dateformat\"HH:MM:SS\") - DateTime(1,1,1)) )\n",
    "                intdata[nl,:] .= parse.(Int64, spl[6:7])  #  2\n",
    "                data[nl,:] .= parse.(Float32, spl[8:end]) # 19\n",
    "            catch\n",
    "                @show line\n",
    "            end\n",
    "        end\n",
    "    end\n",
    "    return dt[1:nl], intdata[1:nl,:], data[1:nl,:]\n",
    "end\n",
    "\n",
    "function read_vecnav_dict( file )\n",
    "\n",
    "    D = Dict{Symbol, Any}()\n",
    "    vnkeys = Symbol.( [\n",
    "    \"Yaw\", \"Pitch\", \"Roll\",\n",
    "    \"Quat0\", \"Quat1\", \"Quat2\", \"Quat3\",\n",
    "    \"Latitude\", \"Longitude\", \"Altitude\",\n",
    "    \"MagNED0\", \"MagNED1\", \"MagNED2\",\n",
    "    \"LinAcc0\", \"LinAcc1\", \"LinAcc2\",\n",
    "    \"VelNED0\", \"VelNED1\", \"VelNED2\" ] )\n",
    "\n",
    "    dt, gpstime, data = read_vevnav_data( file )\n",
    "\n",
    "    D[:time] = dt\n",
    "    D[:GpsTime] = gpstime[:,2]\n",
    "    for (i,k) in enumerate(vnkeys)\n",
    "        D[k] = data[:,i]\n",
    "    end\n",
    "    return D\n",
    "end\n"
   ]
  },
  {
   "cell_type": "code",
   "execution_count": 3,
   "metadata": {},
   "outputs": [
    {
     "data": {
      "text/plain": [
       "Dict{Symbol, Any} with 21 entries:\n",
       "  :LinAcc1   => Float32[-0.534912, 0.242155, -0.252161, -0.142886, 0.870555, -0…\n",
       "  :Roll      => Float32[-1.44114, -1.4784, -1.4599, -1.51939, -1.4881, -1.55684…\n",
       "  :Latitude  => Float32[0.0, 0.0, 0.0, 0.0, 0.0, 0.0, 0.0, 0.0, 0.0, 0.0  …  0.…\n",
       "  :Yaw       => Float32[-163.268, -163.09, -163.29, -163.131, -163.282, -163.13…\n",
       "  :time      => [DateTime(\"2023-03-29T13:17:11\"), DateTime(\"2023-03-29T13:17:11…\n",
       "  :VelNED1   => Float32[0.0, 0.0, 0.0, 0.0, 0.0, 0.0, 0.0, 0.0, 0.0, 0.0  …  0.…\n",
       "  :MagNED2   => Float32[0.101274, 0.102987, 0.101529, 0.10302, 0.101723, 0.1018…\n",
       "  :Altitude  => Float32[0.0, 0.0, 0.0, 0.0, 0.0, 0.0, 0.0, 0.0, 0.0, 0.0  …  0.…\n",
       "  :Quat1     => Float32[0.011087, 0.011421, 0.011312, 0.011824, 0.01162, 0.0122…\n",
       "  :VelNED2   => Float32[0.0, 0.0, 0.0, 0.0, 0.0, 0.0, 0.0, 0.0, 0.0, 0.0  …  0.…\n",
       "  :MagNED0   => Float32[0.234963, 0.238538, 0.237532, 0.239332, 0.240921, 0.241…\n",
       "  :Quat0     => Float32[-0.011044, -0.010909, -0.010645, -0.010649, -0.010244, …\n",
       "  :LinAcc0   => Float32[0.432598, -0.106032, 0.230814, 0.230453, -0.216229, 0.2…\n",
       "  :MagNED1   => Float32[-0.005458, -0.002411, -0.004906, -0.00541, -0.006987, -…\n",
       "  :Quat2     => Float32[-0.989255, -0.989026, -0.989283, -0.989076, -0.989273, …\n",
       "  :VelNED0   => Float32[0.0, 0.0, 0.0, 0.0, 0.0, 0.0, 0.0, 0.0, 0.0, 0.0  …  0.…\n",
       "  :GpsTime   => [9431257000, 9475007000, 9537507000, 9581257000, 9631257000, 96…\n",
       "  :Quat3     => Float32[0.145364, 0.146894, 0.145179, 0.146544, 0.145253, 0.146…\n",
       "  :LinAcc2   => Float32[-9.79796, -9.57873, -9.66708, -9.70769, -9.49987, -9.71…\n",
       "  :Pitch     => Float32[-1.06728, -1.04422, -1.0186, -1.00843, -0.967874, -0.95…\n",
       "  :Longitude => Float32[0.0, 0.0, 0.0, 0.0, 0.0, 0.0, 0.0, 0.0, 0.0, 0.0  …  0.…"
      ]
     },
     "execution_count": 3,
     "metadata": {},
     "output_type": "execute_result"
    }
   ],
   "source": [
    "# precompile reader on a short file\n",
    "test = read_vecnav_dict( \"./data/lidar/table/VNshort.txt\" ) "
   ]
  },
  {
   "cell_type": "code",
   "execution_count": 4,
   "metadata": {},
   "outputs": [
    {
     "data": {
      "text/plain": [
       "\"./data/lidar/table/VectorNavTableData.txt\""
      ]
     },
     "execution_count": 4,
     "metadata": {},
     "output_type": "execute_result"
    }
   ],
   "source": [
    "# read whole VecNav data file\n",
    "datadir = \"./data/lidar/table/\"\n",
    "file = joinpath(datadir, \"VectorNavTableData.txt\")\n",
    "\n"
   ]
  },
  {
   "cell_type": "code",
   "execution_count": null,
   "metadata": {},
   "outputs": [],
   "source": [
    "bigread = false\n",
    "\n",
    "if bigread\n",
    "    # precompile reader on a short file\n",
    "    @time test = read_vecnav_dict( \"./data/lidar/table/VNshort.txt\" ) \n",
    "    @time test = read_vecnav_dict( \"./data/lidar/table/VNshort.txt\" ) \n",
    "\n",
    "    # process the big read Vn data\n",
    "\n",
    "    # study time index\n",
    "    @time Vn = read_vecnav_dict( file ) # very big slow read takes 2:27; !compile first!\n",
    "    plot(Vn[:GpsTime][1200:1200:end], marker=\".\", linestyle=\"none\") # jumps\n",
    "    plot(Vn[:time][1200:1200:end], marker=\".\", linestyle=\"none\") # monotonic\n",
    "    i0 = findfirst(diff(Vn[:GpsTime][:]) .> 1e17)+1\n",
    "    # i0=663 # first good index of big Vn structure\n",
    "\n",
    "    # diff(Vn[:GpsTime][700:712]) # integer nanoseconds = 10-9 s\n",
    "    # 50_000_000 ns is 0.05 s\n",
    "\n",
    "    function gps2dt(gpstime::Integer)\n",
    "        t_d = floor(gpstime / (86_400 * 1_000_000_000)) # nanosecond -> integer day\n",
    "        t_ms = round(Int64, (gpstime % (86_400 * 1_000_000_000) ) / 1_000_000) # nansecond -> millisecond of day\n",
    "        DateTime(1980, 1, 6, 0,0,0) + Day(t_d) + Millisecond(t_ms)\n",
    "    end\n",
    "    gps2dt(gpstime::Vector) = gps2dt.(gpstime)\n",
    "\n",
    "    # fix the time\n",
    "    delete!(Vn, :time)\n",
    "    Vn[:time] = gps2dt(Vn[:GpsTime]) # re-add\n",
    "\n",
    "    # time interpolator, truncates\n",
    "    itp_vn(k, t) = interpolate(Dates.value.(Vn[:time][i0:end]), Vn[k][i0:end])[t]\n",
    "\n",
    "    # write in a mat file\n",
    "    matopen(\"VectorNavTable.mat\", \"w\") do matfile\n",
    "        # Write the variables to the MAT file\n",
    "        write(matfile, \"time_offset\", Dates.value.(Vn[:time][i0:end] .- Vn[:time][i0])) # millisec since base_time\n",
    "        write(matfile, \"base_time\",  Dates.format( Vn[:time][i0], \"yyyy-mm-dd HH:MM:SS.sss\" ))\n",
    "        for k in filter(k -> k !== :time, keys(Vn))\n",
    "            write(matfile, String(k), Vn[k][i0:end])\n",
    "        end\n",
    "        close(matfile)\n",
    "    end\n",
    "\n",
    "    # write 1 JLD2 file\n",
    "    jldopen(\"VectorNavTable.jld2\", \"w\") do file\n",
    "        # Write the VectorNav dict to the JLD2 file\n",
    "        file[\"Vn\"] = Vn\n",
    "    end\n",
    "\n",
    "    # read 1 big JLD2 file \n",
    "    jldopen(\"VectorNavTable.jld2\", \"r\") do file # subsetting while reading saves no time\n",
    "        vn_dt = file[\"Vn\"][:time]\n",
    "        pitch = file[\"Vn\"][:Pitch]   # degrees \n",
    "        roll  = file[\"Vn\"][:Roll]    # degrees\n",
    "        heave = file[\"Vn\"][:VelNED2] # m/s\n",
    "    end\n",
    "\n",
    "    # save smaller subsets as daily files for easier reading\n",
    "    days = unique(Date.(Vn[:time][i0:end]))\n",
    "\n",
    "    for d in days\n",
    "        st = maximum(i0, findfirst(t -> t >= d, vn_dt ))\n",
    "        en = findlast( t -> t <  d+Day(1), vn_dt )\n",
    "        yyyymmdd = Dates.format(d, dateformat\"yyyymmdd\")\n",
    "\n",
    "        jldopen(joinpath(datadir, \"VectorNavTable_$(yyyymmdd).jld2\"), \"w\") do file\n",
    "            # Write the VectorNav dict to the JLD2 file\n",
    "            file[\"time\"]  = vn_dt[st:en]\n",
    "            file[\"pitch\"] = pitch[st:en]\n",
    "            file[\"roll\"]  =  roll[st:en]\n",
    "            file[\"heave\"] = heave[st:en]\n",
    "        end\n",
    "    end\n",
    "\n",
    "end"
   ]
  },
  {
   "cell_type": "code",
   "execution_count": 16,
   "metadata": {},
   "outputs": [
    {
     "data": {
      "image/png": "[encoded data removed]",
      "text/plain": [
       "Figure(PyObject <Figure size 640x480 with 1 Axes>)"
      ]
     },
     "metadata": {},
     "output_type": "display_data"
    },
    {
     "data": {
      "text/plain": [
       "1-element Vector{PyCall.PyObject}:\n",
       " PyObject <matplotlib.lines.Line2D object at 0x3493bffd0>"
      ]
     },
     "execution_count": 16,
     "metadata": {},
     "output_type": "execute_result"
    }
   ],
   "source": [
    "# read daily JLD2 example\n",
    "dt = DateTime(2024, 5, 8)\n",
    "yyyymmdd = Dates.format(dt, dateformat\"yyyymmdd\")\n",
    "Vn = JLD2.load(joinpath(datadir, \"VectorNavTable_$(yyyymmdd).jld2\"))\n",
    "\n",
    "st = 1; en = 1000\n",
    "plot(Vn[\"time\"][st:en], Vn[\"roll\"][st:en], linewidth=0.5) # RollPitchYaw in degrees\n",
    "plot(Vn[\"time\"][st:en], Vn[\"pitch\"][st:en], linewidth=0.5)\n",
    "plot(Vn[\"time\"][st:en], Vn[\"heave\"][st:en], linewidth=0.5) # heave of the body in NED frame in m/s"
   ]
  },
  {
   "cell_type": "markdown",
   "metadata": {},
   "source": [
    "## find displacements of sample volumes"
   ]
  },
  {
   "cell_type": "code",
   "execution_count": 24,
   "metadata": {},
   "outputs": [
    {
     "data": {
      "text/plain": [
       "12.0:24.0:3588.0"
      ]
     },
     "execution_count": 24,
     "metadata": {},
     "output_type": "execute_result"
    }
   ],
   "source": [
    "rangegate = 24\n",
    "range = 12.0 .+ 24.0.*((1:150).-1) # conflicts with Base.range\n",
    "\n",
    "#=\n",
    "heave = Vn[:VelNED2] # m/s?\n",
    "\n",
    "# trigonometry to find displacements between volumes to be used in structure functions\n",
    "target_vector(range, pitch, roll) = range .* [ -sin(pitch), cos(pitch)*sin(roll), cos(pitch)*cos(roll) ]\n",
    "#simultaneous_vector(a1,a2, p1,p2, r1,r2) = target_vector(a1,p1,r1) .- target_vector(a2,p2,r2)\n",
    "displacement_vector(X, Y, a1,a2, p1,p2, r1,r2) = [X, Y, 0] .- (target_vector(a1,p1,r1) .- target_vector(a2,p2,r2))\n",
    "rad = abs(displacement_vector)\n",
    "r1 = abs(displacement_vector[1])\n",
    "\n",
    "function df(f, x::Vector)\n",
    "    y = \n",
    "    for i = axes(x)\n",
    "        for j = axes(x)[1:end]\n",
    "            y = f( x[i] - x[j] )\n",
    "        end\n",
    "    end\n",
    "    return y\n",
    "end\n",
    "\n",
    "\"efficient representation of interaction of difference of vector u members\"\n",
    "Df(u) = UpperTriangular( (u .- permutedims(u)) )\n",
    "\n",
    "# vectorize 3 levels of w\n",
    "D2w = Df(w).^2\n",
    "dx  = Df(x)\n",
    "dy  = Df(y)\n",
    "dz  = Df(z)\n",
    "dist3 = norm()\n",
    "=#"
   ]
  },
  {
   "cell_type": "code",
   "execution_count": 19,
   "metadata": {},
   "outputs": [
    {
     "data": {
      "text/plain": [
       "(CartesianIndex{2}[CartesianIndex(1, 1), CartesianIndex(1, 1), CartesianIndex(1, 2), CartesianIndex(1, 2), CartesianIndex(1, 3), CartesianIndex(1, 3), CartesianIndex(1, 4), CartesianIndex(1, 4), CartesianIndex(1, 5), CartesianIndex(1, 5)  …  CartesianIndex(0, 0), CartesianIndex(0, 0), CartesianIndex(0, 0), CartesianIndex(0, 0), CartesianIndex(0, 0), CartesianIndex(0, 0), CartesianIndex(0, 0), CartesianIndex(0, 0), CartesianIndex(0, 0), CartesianIndex(0, 0)], CartesianIndex{2}[CartesianIndex(1, 2), CartesianIndex(1, 3), CartesianIndex(1, 3), CartesianIndex(1, 4), CartesianIndex(1, 4), CartesianIndex(1, 5), CartesianIndex(1, 5), CartesianIndex(1, 6), CartesianIndex(1, 6), CartesianIndex(1, 7)  …  CartesianIndex(0, 0), CartesianIndex(0, 0), CartesianIndex(0, 0), CartesianIndex(0, 0), CartesianIndex(0, 0), CartesianIndex(0, 0), CartesianIndex(0, 0), CartesianIndex(0, 0), CartesianIndex(0, 0), CartesianIndex(0, 0)], Union{Missing, Float32}[24.0f0, 36.0f0, 48.0f0, 60.0f0, 72.0f0, 84.0f0, 96.0f0, 108.0f0, 120.0f0, 132.0f0  …  missing, missing, missing, missing, missing, missing, missing, missing, missing, missing], Union{Missing, Float32}[-24.0f0, -48.0f0, -24.0f0, -48.0f0, -24.0f0, -48.0f0, -24.0f0, -48.0f0, -24.0f0, -48.0f0  …  missing, missing, missing, missing, missing, missing, missing, missing, missing, missing], Union{Missing, Float32}[576.0625f0, 2304.0625f0, 576.0625f0, 2304.0625f0, 576.0625f0, 2304.0625f0, 576.0625f0, 2304.0625f0, 576.0625f0, 2304.0625f0  …  missing, missing, missing, missing, missing, missing, missing, missing, missing, missing], 147852000)"
      ]
     },
     "execution_count": 19,
     "metadata": {},
     "output_type": "execute_result"
    }
   ],
   "source": [
    "#=\n",
    "# address the time,height series with CartesianIndices?\n",
    "ntime = 1000\n",
    "nz = 150\n",
    "nzoffset = 3\n",
    "nind = ntime*(ntime+1)/2 * (nzoffset*nz - nzoffset*(nzoffset-1)/2)\n",
    "\n",
    "function displacements_housekeeping(dt=0.5, range=12.0.+24.0.*((1:150).-1), U=10, V=10)\n",
    "    ntime = 1000\n",
    "    nz = 150\n",
    "    nzoffset = 3\n",
    "    nind = round(Int64, ntime*(ntime+1)/2 * (nzoffset*nz - nzoffset*(nzoffset-1)/2))\n",
    "    \n",
    "    # first housekeeping pass to estimate indices and displacements without data\n",
    "    # and no angular corrections\n",
    "\n",
    "    I = Vector{CartesianIndex{2}}(undef, nind)\n",
    "    J = Vector{CartesianIndex{2}}(undef, nind)\n",
    "    fill!(I, CartesianIndex(0,0))\n",
    "    fill!(J, CartesianIndex(0,0))\n",
    "\n",
    "    zm = Vector{Union{Missing,Float32}}(missing, nind)\n",
    "    dz = Vector{Union{Missing,Float32}}(missing, nind)\n",
    "    dr = Vector{Union{Missing,Float32}}(missing, nind)\n",
    "    \n",
    "    pitch = 0\n",
    "    roll = 0\n",
    "    X = 0.5\n",
    "    Y = 0.5\n",
    "\n",
    "    lin = 0 \n",
    "    for it in 1:ntime\n",
    "        for jt in (it+1):ntime # operate with all subsequent times\n",
    "            for iz in 1:nz-2\n",
    "                for jz in (iz+1):min(ntime, iz+2) # operate with next 3 levels\n",
    "                    lin += 1\n",
    "                    # I is first point, J is second point\n",
    "                    I[lin] = CartesianIndex(it,iz)\n",
    "                    J[lin] = CartesianIndex(it,jz)\n",
    "                    zm[lin] = (range[iz] + range[jz]) / 2\n",
    "                    dz[lin] =  range[iz] - range[jz]\n",
    "                    dx = X\n",
    "                    dy = Y\n",
    "                    # distance between\n",
    "                    dr[lin] = dz[lin]*dz[lin] + dx*dx * dy*dy\n",
    "                end\n",
    "            end\n",
    "        end\n",
    "    end\n",
    "\n",
    "    return I,J, zm, dz,dr, lin\n",
    "end\n",
    "\n",
    "I,J, zm, dz,dr, lin = displacements_housekeeping()\n",
    "# still not sure I'm counting the pairs correctly\n",
    "=#"
   ]
  },
  {
   "cell_type": "code",
   "execution_count": 216,
   "metadata": {},
   "outputs": [
    {
     "data": {
      "text/plain": [
       "4498500-element Vector{Int64}:\n",
       " 1\n",
       " 1\n",
       " 1\n",
       " 1\n",
       " 1\n",
       " 1\n",
       " 1\n",
       " 1\n",
       " 1\n",
       " 1\n",
       " 1\n",
       " 1\n",
       " 1\n",
       " ⋮\n",
       " 3\n",
       " 3\n",
       " 3\n",
       " 3\n",
       " 3\n",
       " 3\n",
       " 3\n",
       " 3\n",
       " 3\n",
       " 3\n",
       " 3\n",
       " 3"
      ]
     },
     "execution_count": 216,
     "metadata": {},
     "output_type": "execute_result"
    }
   ],
   "source": [
    "nt = 1000\n",
    "nc = 3\n",
    "\n",
    "# construct the indices of the combination sets\n",
    "ci = CartesianIndices((nt,nc))\n",
    "li = LinearIndices(ci)\n",
    "\n",
    "# Generate the set of unique pairs of indices (l1,l2)\n",
    "# where l1 < l2.\n",
    "# Set() makes unique but it's slow and the result of the comprehension is already unique. \n",
    "lpairs = [ (l1, l2) for l1 in li[:] for l2 in (l1+1):last(li) ]\n",
    "l1 = first.(lpairs) # vector of linear indices to points 1 of pairs\n",
    "l2 =  last.(lpairs) #                             points 2\n",
    "# str_fcn = w[ci[l1]] - w[ci[l2]])\n",
    "\n",
    "# w can be indexed directly with ci[first.(lpairs])\n",
    "# unpack the CartesianIndex to subscript the time, range\n",
    "# idx[1] works but first(idx) tries to iterate which is unsupported\n",
    "it1 = map(idx->idx[1], ci[l1]) #  t index of first point(s)\n",
    "iz1 = map(idx->idx[2], ci[l1]) #  z index of first\n",
    "it2 = map(idx->idx[1], ci[l2]) #  t       of second points(s)\n",
    "iz2 = map(idx->idx[2], ci[l2]) #  z          second\n",
    "#     first.(Tuple.(ci[l1])) # this also works\n"
   ]
  },
  {
   "cell_type": "code",
   "execution_count": 20,
   "metadata": {},
   "outputs": [
    {
     "data": {
      "text/plain": [
       "2499500-element LinearIndices{1, Tuple{Base.OneTo{Int64}}}:\n",
       "       1\n",
       "       2\n",
       "       3\n",
       "       4\n",
       "       5\n",
       "       6\n",
       "       7\n",
       "       8\n",
       "       9\n",
       "      10\n",
       "      11\n",
       "      12\n",
       "      13\n",
       "       ⋮\n",
       " 2499489\n",
       " 2499490\n",
       " 2499491\n",
       " 2499492\n",
       " 2499493\n",
       " 2499494\n",
       " 2499495\n",
       " 2499496\n",
       " 2499497\n",
       " 2499498\n",
       " 2499499\n",
       " 2499500"
      ]
     },
     "execution_count": 20,
     "metadata": {},
     "output_type": "execute_result"
    }
   ],
   "source": [
    "# It might be fast enough to just move the pairing window up by 1 each time.\n",
    "# But this will repeat some sample pairs: pairs in adjacent lines 2x, and in the same line 3x.\n",
    "# To fix this, compute the unique set of pairs l1,l2 for the whole set of CartesianIndices \n",
    "# including z indices 1:nz. Then filter for the z index of ci[l2] to be <=3 from ci[l1].\n",
    "# Generating this many pair is awfully slow. \n",
    "# There's no overlap if we generate pairs in sets of 3 levels, and go back to fill\n",
    "## ci = CartesianIndices((nt,nz)) ## too slow\n",
    "\n",
    "nt = 1000\n",
    "nc = 3\n",
    "islide = 0\n",
    "ci = CartesianIndices((nt,nc)) .+ CartesianIndex((0, islide))\n",
    "li = LinearIndices(ci)\n",
    "lpairs = [ (l1, l2) for l1 in li[:] for l2 in (l1+1):last(li) ] # redundancy\n",
    "\n",
    "# The right complete set that doesn't repeat pairs is \n",
    "# 1 the complete set of nt*(n-1)/2 pairs for the top level (3)\n",
    "# 2 the 2*nt*nt sets of pairs between every point in top (3) level and the next 2 levels\n",
    "# Iteratively slide this box upward by 1 level for each level.\n",
    "\"index unique pairs in a vector of length n\"\n",
    "function uniquepairs(n) \n",
    "    [ [l1, l2] for l1 in 1:n for l2 in (l1+1):n ]\n",
    "end\n",
    "\"index pairs of points in adjacent levels\"\n",
    "allcross(n) = [ [l1, l2] for l1 in 1:n for l2 in 1:n ]\n",
    "\n",
    "# index pairs in middle level 2-2\n",
    "up = uniquepairs(nt)\n",
    "it1 = map(i->i[1], up) # time indices for pairs of point1, point2\n",
    "it2 = map(i->i[2], up)\n",
    "ci1_r22 = CartesianIndex.(tuple.(it1,2)) # 1st point in pair lev\n",
    "ci2_r22 = CartesianIndex.(tuple.(it2,2)) # 2nd \n",
    "\n",
    "# index pairs of points from level 2-1, and 2-3\n",
    "ac = allcross(nt)\n",
    "it1 = map(i->i[1], ac)\n",
    "it2 = map(i->i[2], ac)\n",
    "ci1_r21 = ci1_r23 = CartesianIndex.(tuple.(it1,2))\n",
    "ci2_r21 = CartesianIndex.(tuple.(it2,1))\n",
    "ci2_r23 = CartesianIndex.(tuple.(it2,3))\n",
    "\n",
    "# omnibus set of cartesian index pairs for a level, including points in lev above and below\n",
    "ci1 = [ci1_r23; ci1_r22; ci1_r21] # first of pairs\n",
    "ci2 = [ci2_r23; ci2_r22; ci2_r21]\n",
    "li1 = LinearIndices(ci1)\n",
    "li2 = LinearIndices(ci2)"
   ]
  },
  {
   "cell_type": "code",
   "execution_count": 74,
   "metadata": {},
   "outputs": [
    {
     "data": {
      "text/plain": [
       "499500-element LinearIndices{1, Tuple{Base.OneTo{Int64}}}:\n",
       "      1\n",
       "      2\n",
       "      3\n",
       "      4\n",
       "      5\n",
       "      6\n",
       "      7\n",
       "      8\n",
       "      9\n",
       "     10\n",
       "     11\n",
       "     12\n",
       "     13\n",
       "      ⋮\n",
       " 499489\n",
       " 499490\n",
       " 499491\n",
       " 499492\n",
       " 499493\n",
       " 499494\n",
       " 499495\n",
       " 499496\n",
       " 499497\n",
       " 499498\n",
       " 499499\n",
       " 499500"
      ]
     },
     "execution_count": 74,
     "metadata": {},
     "output_type": "execute_result"
    }
   ],
   "source": [
    "# just use one level\n",
    "up = uniquepairs(nt)\n",
    "it1 = map(i->i[1], up) # time indices for pairs of point1, point2\n",
    "it2 = map(i->i[2], up)\n",
    "ci1_r11 = CartesianIndex.(tuple.(it1,1)) # 1st point in pair lev\n",
    "ci2_r11 = CartesianIndex.(tuple.(it2,1)) # 2nd \n",
    "\n",
    "# set of cartesian index pairs for a level, including points in lev above and below\n",
    "ci1 = ci1_r11 # first of pairs\n",
    "ci2 = ci2_r11\n",
    "li1 = LinearIndices(ci1)\n",
    "li2 = LinearIndices(ci2)"
   ]
  },
  {
   "cell_type": "code",
   "execution_count": 75,
   "metadata": {},
   "outputs": [
    {
     "data": {
      "text/plain": [
       "499500-element Vector{Int64}:\n",
       " 1\n",
       " 1\n",
       " 1\n",
       " 1\n",
       " 1\n",
       " 1\n",
       " 1\n",
       " 1\n",
       " 1\n",
       " 1\n",
       " 1\n",
       " 1\n",
       " 1\n",
       " ⋮\n",
       " 1\n",
       " 1\n",
       " 1\n",
       " 1\n",
       " 1\n",
       " 1\n",
       " 1\n",
       " 1\n",
       " 1\n",
       " 1\n",
       " 1\n",
       " 1"
      ]
     },
     "execution_count": 75,
     "metadata": {},
     "output_type": "execute_result"
    }
   ],
   "source": [
    "it1 = map(idx->idx[1], ci1) #  t index of first point(s)\n",
    "iz1 = map(idx->idx[2], ci1) #  z index of first\n",
    "it2 = map(idx->idx[1], ci2) #  t       of second points(s)\n",
    "iz2 = map(idx->idx[2], ci2) #  z          second"
   ]
  },
  {
   "cell_type": "code",
   "execution_count": 76,
   "metadata": {},
   "outputs": [
    {
     "data": {
      "text/plain": [
       "rhopair"
      ]
     },
     "execution_count": 76,
     "metadata": {},
     "output_type": "execute_result"
    }
   ],
   "source": [
    "# nominal displacements with no pitch-roll corrections\n",
    "\n",
    "\"\"\"\n",
    "zm, dr2, dz2, D2 = displacements( ci1,ci2, Udt,Vdt, pitch,roll, w; rangegate=rangegate)\n",
    "Displacements of sample pairs for one (vertical) subvolume.\n",
    "\"\"\"\n",
    "function displacements( ci1,ci2, Udt,Vdt, pitch,roll, w; rangegate=rangegate)\n",
    "    # get the individual indices\n",
    "    it1 = map(idx->idx[1], ci1) #  t index of first point(s)\n",
    "    iz1 = map(idx->idx[2], ci1) #  z index of first\n",
    "    it2 = map(idx->idx[1], ci2) #  t       of second points(s)\n",
    "    iz2 = map(idx->idx[2], ci2) #  z          second\n",
    "\n",
    "    rng(iz) = rangegate * (iz-1 + 0.5) # center of gates\n",
    "\n",
    "    # horiz translation by mean wind\n",
    "    Udtbar = @. (Udt[iz2] + Udt[iz1]) / 2\n",
    "    Vdtbar = @. (Vdt[iz2] + Vdt[iz1]) / 2\n",
    "    X = @. Udtbar * (it2 - it1)\n",
    "    Y = @. Vdtbar * (it2 - it1)\n",
    "    # vertical middle of pair\n",
    "    zm = @. (rng(iz2) * cos(pitch[it2])*cos(roll[it2]) + rng(iz1) * cos(pitch[it1])*cos(roll[it1])) / 2\n",
    "    # displacement between pair of points\n",
    "    dz = @.     rng(iz2) * cos(pitch[it2])*cos(roll[it2]) - rng(iz1) * cos(pitch[it1])*cos(roll[it1])\n",
    "    dx = @. X + rng(iz2) *-sin(pitch[it2])                - rng(iz1) *-sin(pitch[it1])\n",
    "    dy = @. Y + rng(iz2) * cos(pitch[it2])*sin(roll[it2]) - rng(iz1) * cos(pitch[it1])*sin(roll[it1])\n",
    "    # distance between\n",
    "    dz2 = dz .* dz\n",
    "    dr2 = @. dz2 + dx*dx + dy*dy\n",
    "    # vel structure function\n",
    "    D2 = @. (w[ci2] - w[ci1])^2\n",
    "    # return properties of pairs\n",
    "    return zm, dr2, dz2, D2\n",
    "end\n",
    "\n",
    "\"dr^2/3 (1-(dz/dr)^2/4) displacement function for computing dissipation from structure function pairs\"\n",
    "rhopair(dr2, dz2) = dr2^(1/3) * (1 - dz2/(4*dr2))"
   ]
  },
  {
   "cell_type": "code",
   "execution_count": 77,
   "metadata": {},
   "outputs": [
    {
     "data": {
      "text/plain": [
       "([11.817982128203518, 11.817982128203518, 11.817852842269513, 11.817772939208005, 11.817852842269513, 11.817982128203518, 11.817982128203518, 11.817852842269515, 11.817772939208005, 11.817852842269513  …  11.817982128203516, 11.817982128203516, 11.817852842269513, 11.817772939208005, 11.818111414137519, 11.817982128203516, 11.817902225142007, 11.817982128203516, 11.817902225142007, 11.817772939208005], [41.60892235148373, 165.56618916638564, 373.2530801612619, 669.3141843344615, 1060.9511284580296, 1556.997976965279, 2166.808405320483, 2898.900254753664, 3759.4234181093752, 4750.7572886879725  …  53.26818337860324, 207.41469221877617, 453.76540289876505, 784.54262777845, 50.45958740461272, 196.0943665565296, 428.95391361097325, 47.60838001704101, 185.1729869202623, 44.99943919594262], [6.685941092315753e-8, 6.685941092315753e-8, 3.1554436208840472e-30, 2.5537996954371423e-8, 3.1554436208840472e-30, 6.685941092315753e-8, 6.685941092315753e-8, 0.0, 2.5537996954371423e-8, 3.1554436208840472e-30  …  6.685941092407615e-8, 6.685941092407615e-8, 0.0, 2.553799695380368e-8, 0.0, 6.685941092407615e-8, 1.750401433725902e-7, 6.685941092407615e-8, 1.750401433725902e-7, 2.553799695380368e-8], [0.0, 0.0, 0.0, 0.0, 0.0, 0.0, 0.0, 0.0, 0.0, 0.0  …  0.0, 0.0, 0.0, 0.0, 0.0, 0.0, 0.0, 0.0, 0.0, 0.0])"
      ]
     },
     "execution_count": 77,
     "metadata": {},
     "output_type": "execute_result"
    }
   ],
   "source": [
    "# test the logic by computing with dummy data\n",
    "nz = 150\n",
    "w = zeros(nt,nz)\n",
    "Udt = 5.0 .+ zeros(nz)\n",
    "Vdt = 5.0 .+ zeros(nz)\n",
    "pitch = @. 10*pi/180 * sin((1:nt)*pi/10) # fake\n",
    "roll  = @. 10*pi/180 * cos((1:nt)*pi/10)\n",
    "\n",
    "zm, dr2, dz2, D2 = displacements( ci1,ci2, Udt,Vdt, pitch,roll, w; rangegate=rangegate )\n"
   ]
  },
  {
   "cell_type": "code",
   "execution_count": 97,
   "metadata": {},
   "outputs": [
    {
     "data": {
      "text/plain": [
       "21-element Vector{Float64}:\n",
       "   0.5011519448338186\n",
       "   0.4999114056422025\n",
       "   0.502889482573963\n",
       "   0.5024909566945889\n",
       "   0.5021074583191569\n",
       "   0.4990818258293421\n",
       "   0.5016916866736525\n",
       "   0.5029742832878987\n",
       "   0.4985054101735766\n",
       "   0.5022302415769619\n",
       "   0.4979960591945028\n",
       "   0.5039502632839588\n",
       "   0.5006210530627802\n",
       "   0.5003313080284651\n",
       "   0.5020551011563921\n",
       "   0.5025498290622787\n",
       "   0.5003079689029826\n",
       "   0.5000752475035021\n",
       "   0.49981572721669687\n",
       "   0.5004674802523021\n",
       " NaN"
      ]
     },
     "execution_count": 97,
     "metadata": {},
     "output_type": "execute_result"
    }
   ],
   "source": [
    "rho = rhopair.(dr2, dz2)\n",
    "#plot((1:length(rho))/length(rho), sort(rho))\n",
    "\n",
    "# devise equally-populated bins\n",
    "nrho = length(rho)\n",
    "nbin = 20\n",
    "sp = sortperm(rho)\n",
    "srho = rho[sp]\n",
    "rhobins = [ 0; rho[sp[Int32(nrho/20):Int32(nrho/20):nrho]] ]\n",
    "# maximum(rho), sort(rho)[length(rho)]\n",
    "# plot(rhopair.(dr2, dz2), zm, marker=\".\", linestyle=\"none\")\n",
    "# hist(rhopair.(dr2, dz2), bins=20)\n",
    "\n",
    "# bin average y in bins of x\n",
    "function binavg(y, x, b)\n",
    "    a = zeros(length(b))\n",
    "    c = zeros(length(b))\n",
    "    for (i,x) in enumerate(x)\n",
    "        bi = findlast(j -> j < x, b)\n",
    "        a[bi] += y[i]\n",
    "        c[bi] += 1\n",
    "    end\n",
    "    return a./c\n",
    "end\n",
    "\n",
    "D2bin = binavg(rand(length(rho)), rho, rhobins)"
   ]
  },
  {
   "cell_type": "code",
   "execution_count": null,
   "metadata": {},
   "outputs": [],
   "source": [
    "\n",
    "# plot some of this stuff\n",
    "# drcount, bins = hist((dr[:]), bins=80, range=(30, (X*nt*1.4)))\n",
    "dzcount, bins = hist((dz[:]), bins=80, range=(0, (2*24)))\n",
    "title(\"displacement between point pairs\")\n",
    "clf()\n",
    "plot(dz./dr, dz, marker=\".\", linestyle=\"none\")\n"
   ]
  },
  {
   "cell_type": "code",
   "execution_count": null,
   "metadata": {},
   "outputs": [],
   "source": [
    "\n",
    "    dz = Float32\n",
    "    for it in 1:ntime\n",
    "        for jt in (it+1):ntime # operate with all subsequent times\n",
    "            for iz in 1:nz-2\n",
    "                for jz in (iz+1):min(ntime, iz+2) # operate with next 3 levels\n",
    "                    # i is first point, j is second point\n",
    "\n",
    "                    # mean wind translation\n",
    "                    X = U * dt*(jt-it)\n",
    "                    Y = V * dt*(jt-it)\n",
    "                    # middle of pair\n",
    "                    zm =    (range[iz] * cos(pitch[it])*cos(roll[it]) + range[jz] * cos(pitch[jt])*cos(roll[jt])) / 2\n",
    "                    # displacement between pair of points\n",
    "                    dz =     range[iz] * cos(pitch[it])*cos(roll[it]) - range[jz] * cos(pitch[jt])*cos(roll[jt])\n",
    "                    dx = X + range[iz] *-sin(pitch[it])               - range[jz] *-sin(pitch[jt])\n",
    "                    dy = Y + range[iz] * cos(pitch[it])*sin(roll[it]) - range[jz] * cos(pitch[jt])*sin(roll[jt])\n",
    "                    # distance between\n",
    "                    dr = dz*dz + dx*dx * dy*dy\n",
    "                    # vel structure function\n",
    "                    D2 = (w[it,iz] - w[jt,jz])^2\n",
    "                end\n",
    "            end\n",
    "        end\n",
    "    end\n",
    "end\n",
    "\n",
    "function displacements_D2(dt=0.5, range=12.0.+24.0.*((1:150).-1), U=10, V=10)\n",
    "    for it in 1:ntime\n",
    "        for jt in (it+1):ntime # operate with all subsequent times\n",
    "            for iz in 1:nz-2\n",
    "                for jz in (iz+1):min(ntime, iz+2) # operate with next 3 levels\n",
    "                    # i is first point, j is second point\n",
    "\n",
    "                    # mean wind translation\n",
    "                    X = U * dt*(jt-it)\n",
    "                    Y = V * dt*(jt-it)\n",
    "                    # middle of pair\n",
    "                    zm =    (range[iz] * cos(pitch[it])*cos(roll[it]) + range[jz] * cos(pitch[jt])*cos(roll[jt])) / 2\n",
    "                    # displacement between pair of points\n",
    "                    dz =     range[iz] * cos(pitch[it])*cos(roll[it]) - range[jz] * cos(pitch[jt])*cos(roll[jt])\n",
    "                    dx = X + range[iz] *-sin(pitch[it])               - range[jz] *-sin(pitch[jt])\n",
    "                    dy = Y + range[iz] * cos(pitch[it])*sin(roll[it]) - range[jz] * cos(pitch[it1])*sin(roll[jt])\n",
    "                    # distance between\n",
    "                    dr = dz*dz + dx*dx * dy*dy\n",
    "                    # vel structure function\n",
    "                    D2 = (w[it,iz] - w[jt,jz])^2\n",
    "                end\n",
    "            end\n",
    "        end\n",
    "    end\n",
    "end\n",
    "\n",
    "# I don't know how to do this with CartesianIndices\n",
    "I = CartesianIndices([(it, iz) for iz=1:nlev-2, it in 1:ntime]) # seems OK\n",
    "J = I + CartesianIndex(1:ntime-1, )"
   ]
  },
  {
   "cell_type": "code",
   "execution_count": null,
   "metadata": {},
   "outputs": [],
   "source": []
  },
  {
   "cell_type": "code",
   "execution_count": null,
   "metadata": {},
   "outputs": [],
   "source": [
    "\n",
    "#=\n",
    "% turbulece constants\n",
    "crosscomp  = 3 / 4;\n",
    "kolmogorov = 0.54; % Matches atmospheric boundary layer estimates and Sreenivasan 1995\n",
    "% kolmogorov=0.5; % probably only 1 digit of precision, Sreenivasan 1995\n",
    "C1prime = 4 / 3 * kolmogorov; % as in Pope eqn 6.243\n",
    "factr   = crosscomp / kolmogorov; % 1/C1prime, used for my dissipation calculation\n",
    "% S(w; k) = C1primt * epsilon^2/3 k^-5/3\n",
    "% universal constant for 2nd order structure function\n",
    "% longitudinal structure function constant C2 from Pope 6.2 (p.193) after Saddoughi and Veeravalli (1994)\n",
    "\n",
    "factrz = 1 / C2ll;\n",
    "factrx = 3 / 4 / C2ll;\n",
    "=#\n",
    "\n",
    "# stucture function\n",
    "C2ll = 2.0\n",
    "struf(epsilon, r,r1) = C2ll epsilon^(2/3) r^(2/3) (4 - (r1/r)^2)/3\n",
    "instruf(w1,w2) = (w1-w2)^2\n",
    "rho(r1,r) = r^(2/3) * (1 - ((r1/r)^2)/4)\n",
    "zmid(z1,z2) = (z1 + z2) / 2\n",
    "# plot bin averaged instruf vs rho\n",
    "# fit \n",
    "# D = A*rho + noise\n",
    "# for A and noise\n",
    "# A = 4/3 * C2ll * epsilon^(2/3)\n",
    "epsilon(A) = sqrt(3/4 * A/C2ll)^3"
   ]
  },
  {
   "cell_type": "code",
   "execution_count": null,
   "metadata": {},
   "outputs": [],
   "source": []
  }
 ],
 "metadata": {
  "kernelspec": {
   "display_name": "julia 1.10.3",
   "language": "julia",
   "name": "julia-1.10"
  },
  "language_info": {
   "file_extension": ".jl",
   "mimetype": "application/julia",
   "name": "julia",
   "version": "1.10.3"
  }
 },
 "nbformat": 4,
 "nbformat_minor": 2
}
