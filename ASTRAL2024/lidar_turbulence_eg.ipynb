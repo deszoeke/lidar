{
 "cells": [
  {
   "cell_type": "code",
   "execution_count": 1,
   "metadata": {},
   "outputs": [
    {
     "name": "stderr",
     "output_type": "stream",
     "text": [
      "\u001b[32m\u001b[1m  Activating\u001b[22m\u001b[39m project at `~/Projects/ASTRAL/lidar`\n"
     ]
    }
   ],
   "source": [
    "using Revise\n",
    "using Pkg; Pkg.activate(\".\")\n",
    "\n",
    "using Dates\n",
    "using Statistics\n",
    "using Interpolations\n",
    "using DSP\n",
    "using FFTW\n",
    "using NCDatasets\n",
    "using JLD2\n",
    "\n",
    "include(\"./read_lidar.jl\")\n",
    "using .read_lidar\n",
    "# using MAT\n",
    "\n",
    "using PyPlot"
   ]
  },
  {
   "cell_type": "code",
   "execution_count": 2,
   "metadata": {},
   "outputs": [
    {
     "data": {
      "text/plain": [
       "remove_coherent_component"
      ]
     },
     "metadata": {},
     "output_type": "display_data"
    }
   ],
   "source": [
    "# utility functions\n",
    "pd = permutedims\n",
    "m2n(x) = ismissing(x) ? NaN : x\n",
    "\n",
    "\"bin average y in bins b of coordinate x\"\n",
    "function binavg(y, x, b)\n",
    "    a = zeros(length(b))\n",
    "    c = zeros(length(b))\n",
    "    for (i,x) in enumerate(x)\n",
    "        bi = findlast(j -> j < x, b)\n",
    "        a[bi] += y[i]\n",
    "        c[bi] += 1\n",
    "    end\n",
    "    return a./c\n",
    "end\n",
    "\n",
    "# functions for masking and averaging data\n",
    "\n",
    "\"NaN -> missing\"\n",
    "n2m(x) = isfinite.(x) ? x : missing\n",
    "\n",
    "\"result is x; set to missing iff i<thr\"\n",
    "masklowi(x, i, thr=1.03) = i<thr ? missing : x\n",
    "\n",
    "\"mean along dimension dims, skipping missing\"\n",
    "missmean(X; dims=1) = mapslices(x -> mean(skipmissing(x)), X, dims=dims)\n",
    "\n",
    "\"anomaly\"\n",
    "anom(x; dims=1) = x.-mean(x; dims=dims)\n",
    "\n",
    "# make simple linear temporal interpolation\n",
    "# maybe fast\n",
    "# most time is spent searching for indices\n",
    "# indices are monotonic\n",
    "\n",
    "\"return indices i such that each xl[i] is the first >= xs.\"\n",
    "function findindices(xs, xl)\n",
    "    # xs needles define quarries in haystack xl\n",
    "    xs = filter(x -> x<=last(xl), xs) # prefilter to avoid running off the end of xl\n",
    "    ind = zeros(Int64, size(xs))\n",
    "    i = 1\n",
    "    for (j,x) in enumerate(xs)\n",
    "        while xl[i] < x\n",
    "            i += 1\n",
    "        end\n",
    "        ind[j] = i\n",
    "    end\n",
    "    return ind\n",
    "end\n",
    "\n",
    "# remove ambiguous method for centered average\n",
    "# \"average xl centered within +-half points of the index of xl\"\n",
    "# function indavg(xl, ind; half=10)\n",
    "#     xm = zeros(Float64, size(ind))\n",
    "#     for (i,idx) in enumerate(ind)\n",
    "#         ii = max(1,idx-half) : min(length(xl),idx+half)\n",
    "#         xm[i] = sum(Float64.(xl[ii])) / (2*half+1)\n",
    "#     end\n",
    "#     return xm\n",
    "# end\n",
    "\n",
    "\"average xl within windows to right of points of the index ind of xl\"\n",
    "function indavg(xl, ind; full=20)\n",
    "    xm = zeros(Float64, size(ind))\n",
    "    for (i,idx) in enumerate(ind)\n",
    "        ii = max(1,idx) : min(length(xl),idx+full)\n",
    "        # xm[i] = sum(Float64.(xl[ii])) / (full+1)\n",
    "        xm[i] = mean(Float64.(xl[ii]))\n",
    "    end\n",
    "    return xm\n",
    "end\n",
    "\n",
    "# test data\n",
    "xl = 1:60_000_000\n",
    "xs = 20:20:60_000_000\n",
    "\n",
    "ind = findindices(xs, xl)\n",
    "indavg(xl, ind)\n",
    "\n",
    "\"return the coherent component of signal1 and signal2\"\n",
    "function coherent_component(signal1::Vector{Float64}, signal2::Vector{Float64})\n",
    "    # Fourier Transform of the signals\n",
    "    S1 = fft(signal1)\n",
    "    S2 = fft(signal2)\n",
    "    \n",
    "    # Compute cross-spectral density\n",
    "    P12 = S1 .* conj(S2)\n",
    "    # P21 = conj(P12)\n",
    "    \n",
    "    # Compute auto-spectral density\n",
    "    P11 = S1 .* conj(S1)\n",
    "    P22 = S2 .* conj(S2)\n",
    "    \n",
    "    # Compute coherence\n",
    "    coherence = abs.(P12).^2 ./ (P11 .* P22)\n",
    "    \n",
    "    # Compute the coherent part\n",
    "    coherent_part_S1 = coherence .* S2\n",
    "    coherent_part_S2 = coherence .* S1\n",
    "    \n",
    "    # Inverse Fourier Transform to get the time-domain signals\n",
    "    coherent_signal1 = real(ifft(coherent_part_S1))\n",
    "    coherent_signal2 = real(ifft(coherent_part_S2))\n",
    "    \n",
    "    return coherent_signal1, coherent_signal2\n",
    "end\n",
    "\n",
    "\"remove the coherent component of signal1 and signal2\"\n",
    "function remove_coherent_component(signal1::Vector{Float64}, signal2::Vector{Float64})\n",
    "    # Fourier Transform of the signals\n",
    "    S1 = fft(signal1)\n",
    "    S2 = fft(signal2)\n",
    "    \n",
    "    # Compute cross-spectral density\n",
    "    P12 = S1 .* conj(S2)\n",
    "    # P21 = conj(P12)\n",
    "    \n",
    "    # Compute auto-spectral density\n",
    "    P11 = S1 .* conj(S1)\n",
    "    P22 = S2 .* conj(S2)\n",
    "    \n",
    "    # Compute coherence\n",
    "    coherence = abs.(P12).^2 ./ (P11 .* P22)\n",
    "    \n",
    "    # Compute the coherent part\n",
    "    coherent_part_S1 = coherence .* S2\n",
    "    coherent_part_S2 = coherence .* S1\n",
    "    \n",
    "    # Remove the coherent part\n",
    "    clean_S1 = S1 .- coherent_part_S1\n",
    "    clean_S2 = S2 .- coherent_part_S2\n",
    "    \n",
    "    # Inverse Fourier Transform to get the time-domain signals\n",
    "    clean_signal1 = real(ifft(clean_S1))\n",
    "    clean_signal2 = real(ifft(clean_S2))\n",
    "    \n",
    "    return clean_signal1, clean_signal2\n",
    "end"
   ]
  },
  {
   "cell_type": "code",
   "execution_count": 3,
   "metadata": {},
   "outputs": [],
   "source": [
    "#= test stuff out\n",
    "nt = 1000\n",
    "nc = 3\n",
    "\n",
    "# construct the indices of the combination sets\n",
    "ci = CartesianIndices((nt,nc))\n",
    "li = LinearIndices(ci)\n",
    "\n",
    "# Generate the set of unique pairs of indices (l1,l2)\n",
    "# where l1 < l2.\n",
    "# Set() makes unique but it's slow and the result of the comprehension is already unique. \n",
    "lpairs = [ (l1, l2) for l1 in li[:] for l2 in (l1+1):last(li) ]\n",
    "l1 = first.(lpairs) # vector of linear indices to points 1 of pairs\n",
    "l2 =  last.(lpairs) #                             points 2\n",
    "# str_fcn = w[ci[l1]] - w[ci[l2]])\n",
    "\n",
    "# w can be indexed directly with ci[first.(lpairs])\n",
    "# unpack the CartesianIndex to subscript the time[it], range[iz]\n",
    "# idx[1] works but first(idx) tries to iterate which is unsupported\n",
    "it1 = map(idx->idx[1], ci[l1]) #  t index of first point(s)\n",
    "iz1 = map(idx->idx[2], ci[l1]) #  z index of first\n",
    "it2 = map(idx->idx[1], ci[l2]) #  t       of second points(s)\n",
    "iz2 = map(idx->idx[2], ci[l2]) #  z          second\n",
    "#     first.(Tuple.(ci[l1])) # this also works\n",
    "\n",
    "=#"
   ]
  },
  {
   "cell_type": "code",
   "execution_count": 4,
   "metadata": {},
   "outputs": [
    {
     "data": {
      "text/plain": [
       "(CartesianIndex{2}[CartesianIndex(1, 1), CartesianIndex(1, 1), CartesianIndex(1, 1), CartesianIndex(1, 1), CartesianIndex(1, 1), CartesianIndex(1, 1), CartesianIndex(1, 1), CartesianIndex(1, 1), CartesianIndex(1, 1), CartesianIndex(1, 1)  …  CartesianIndex(996, 1), CartesianIndex(996, 1), CartesianIndex(996, 1), CartesianIndex(996, 1), CartesianIndex(997, 1), CartesianIndex(997, 1), CartesianIndex(997, 1), CartesianIndex(998, 1), CartesianIndex(998, 1), CartesianIndex(999, 1)], CartesianIndex{2}[CartesianIndex(2, 1), CartesianIndex(3, 1), CartesianIndex(4, 1), CartesianIndex(5, 1), CartesianIndex(6, 1), CartesianIndex(7, 1), CartesianIndex(8, 1), CartesianIndex(9, 1), CartesianIndex(10, 1), CartesianIndex(11, 1)  …  CartesianIndex(997, 1), CartesianIndex(998, 1), CartesianIndex(999, 1), CartesianIndex(1000, 1), CartesianIndex(998, 1), CartesianIndex(999, 1), CartesianIndex(1000, 1), CartesianIndex(999, 1), CartesianIndex(1000, 1), CartesianIndex(1000, 1)], [1, 2, 3, 4, 5, 6, 7, 8, 9, 10  …  499491, 499492, 499493, 499494, 499495, 499496, 499497, 499498, 499499, 499500], [1, 2, 3, 4, 5, 6, 7, 8, 9, 10  …  499491, 499492, 499493, 499494, 499495, 499496, 499497, 499498, 499499, 499500], [1, 1, 1, 1, 1, 1, 1, 1, 1, 1  …  996, 996, 996, 996, 997, 997, 997, 998, 998, 999], [1, 1, 1, 1, 1, 1, 1, 1, 1, 1  …  1, 1, 1, 1, 1, 1, 1, 1, 1, 1], [2, 3, 4, 5, 6, 7, 8, 9, 10, 11  …  997, 998, 999, 1000, 998, 999, 1000, 999, 1000, 1000], [1, 1, 1, 1, 1, 1, 1, 1, 1, 1  …  1, 1, 1, 1, 1, 1, 1, 1, 1, 1])"
      ]
     },
     "metadata": {},
     "output_type": "display_data"
    }
   ],
   "source": [
    "# functions for structure functions\n",
    "\n",
    "# generate unique pairs of indices\n",
    "\"index unique pairs in a vector of length n\"\n",
    "function uniquepairs(n) \n",
    "    [ [l1, l2] for l1 in 1:n for l2 in (l1+1):n ]\n",
    "end\n",
    "\"index pairs of points in adjacent levels\"\n",
    "allcross(n) = [ [l1, l2] for l1 in 1:n for l2 in 1:n ]\n",
    "\n",
    "# beam geometry\n",
    "\"lidar beam range\"\n",
    "rng(iz, rangegate=24.0) = rangegate * (iz-1 + 0.5)\n",
    "\n",
    "\"\"\"\n",
    "compile indices of lidar volumes to be compared with\n",
    "structure functions\n",
    "\"\"\"\n",
    "function lidarindices(nt, nz, z1=1; nlevelstats=1)\n",
    "    if nlevelstats == 3\n",
    "        # The complete set that doesn't repeat pairs is \n",
    "        # 1 the complete set of nt*(n-1)/2 pairs for the top level (3)\n",
    "        # 2 the 2*nt*nt sets of pairs between every point in top (3) level and the next 2 levels\n",
    "        # Iteratively slide this box upward by 1 level for each level.\n",
    "    \n",
    "        # index pairs in middle level 2-2\n",
    "        up = uniquepairs(nt)\n",
    "        it1 = map(i->i[1], up) # time indices for pairs of point1, point2\n",
    "        it2 = map(i->i[2], up)\n",
    "        ci1_r22 = CartesianIndex.(tuple.(it1,z1)) # 1st point in pair lev\n",
    "        ci2_r22 = CartesianIndex.(tuple.(it2,z1)) # 2nd \n",
    "    \n",
    "        # index pairs of points from level 2-1, and 2-3\n",
    "        ac = allcross(nt)\n",
    "        it1 = map(i->i[1], ac)\n",
    "        it2 = map(i->i[2], ac)\n",
    "        ci1_r21 = ci1_r23 = CartesianIndex.(tuple.(it1,2))\n",
    "        ci2_r21 = CartesianIndex.(tuple.(it2,z1-1))\n",
    "        ci2_r23 = CartesianIndex.(tuple.(it2,z1+1))\n",
    "    \n",
    "        # omnibus set of cartesian index pairs for a level, including points in lev above and below\n",
    "        ci1 = [ci1_r23; ci1_r22; ci1_r21] # first of pairs\n",
    "        ci2 = [ci2_r23; ci2_r22; ci2_r21]\n",
    "        li1 = LinearIndices(ci1)\n",
    "        li2 = LinearIndices(ci2)\n",
    "        \n",
    "    elseif nlevelstats == 1\n",
    "        # just use structure function velocity pairs from one level of lidar range\n",
    "        up = uniquepairs(nt)\n",
    "        it1 = map(i->i[1], up) # time indices for pairs of point1, point2\n",
    "        it2 = map(i->i[2], up)\n",
    "        ci1_r11 = CartesianIndex.(tuple.(it1,z1)) # 1st point in pair lev\n",
    "        ci2_r11 = CartesianIndex.(tuple.(it2,z1)) # 2nd point in same lev\n",
    "    \n",
    "        # set of cartesian index pairs for a level, including points in lev above and below\n",
    "        ci1 = ci1_r11 # first of pairs\n",
    "        ci2 = ci2_r11\n",
    "        li1 = LinearIndices(ci1)\n",
    "        li2 = LinearIndices(ci2)\n",
    "    end\n",
    "    \n",
    "    it1 = map(idx->idx[1], ci1) #  t index of first point(s)\n",
    "    iz1 = map(idx->idx[2], ci1) #  z index of first\n",
    "    it2 = map(idx->idx[1], ci2) #  t       of second points(s)\n",
    "    iz2 = map(idx->idx[2], ci2) #  z          second\n",
    "    \n",
    "    return ci1,ci2, li1,li2, it1,iz1,it2,iz2\n",
    "end\n",
    "\n",
    "# try example\n",
    "ci1,ci2, li1,li2, it1,iz1,it2,iz2 = lidarindices(1000, 80)\n",
    "\n",
    "#= moved to function\n",
    "nlevelstats = 1\n",
    "\n",
    "if nlevelstats == 3\n",
    "    # The complete set that doesn't repeat pairs is \n",
    "    # 1 the complete set of nt*(n-1)/2 pairs for the top level (3)\n",
    "    # 2 the 2*nt*nt sets of pairs between every point in top (3) level and the next 2 levels\n",
    "    # Iteratively slide this box upward by 1 level for each level.\n",
    "\n",
    "    # index pairs in middle level 2-2\n",
    "    up = uniquepairs(nt)\n",
    "    it1 = map(i->i[1], up) # time indices for pairs of point1, point2\n",
    "    it2 = map(i->i[2], up)\n",
    "    ci1_r22 = CartesianIndex.(tuple.(it1,2)) # 1st point in pair lev\n",
    "    ci2_r22 = CartesianIndex.(tuple.(it2,2)) # 2nd \n",
    "\n",
    "    # index pairs of points from level 2-1, and 2-3\n",
    "    ac = allcross(nt)\n",
    "    it1 = map(i->i[1], ac)\n",
    "    it2 = map(i->i[2], ac)\n",
    "    ci1_r21 = ci1_r23 = CartesianIndex.(tuple.(it1,2))\n",
    "    ci2_r21 = CartesianIndex.(tuple.(it2,1))\n",
    "    ci2_r23 = CartesianIndex.(tuple.(it2,3))\n",
    "\n",
    "    # omnibus set of cartesian index pairs for a level, including points in lev above and below\n",
    "    ci1 = [ci1_r23; ci1_r22; ci1_r21] # first of pairs\n",
    "    ci2 = [ci2_r23; ci2_r22; ci2_r21]\n",
    "    li1 = LinearIndices(ci1)\n",
    "    li2 = LinearIndices(ci2)\n",
    "    \n",
    "elseif nlevelstats == 1\n",
    "    # just use structure function velocity pairs from one level of lidar range\n",
    "    up = uniquepairs(nt)\n",
    "    it1 = map(i->i[1], up) # time indices for pairs of point1, point2\n",
    "    it2 = map(i->i[2], up)\n",
    "    ci1_r11 = CartesianIndex.(tuple.(it1,1)) # 1st point in pair lev\n",
    "    ci2_r11 = CartesianIndex.(tuple.(it2,1)) # 2nd \n",
    "\n",
    "    # set of cartesian index pairs for a level, including points in lev above and below\n",
    "    ci1 = ci1_r11 # first of pairs\n",
    "    ci2 = ci2_r11\n",
    "    li1 = LinearIndices(ci1)\n",
    "    li2 = LinearIndices(ci2)\n",
    "end\n",
    "\n",
    "it1 = map(idx->idx[1], ci1) #  t index of first point(s)\n",
    "iz1 = map(idx->idx[2], ci1) #  z index of first\n",
    "it2 = map(idx->idx[1], ci2) #  t       of second points(s)\n",
    "iz2 = map(idx->idx[2], ci2) #  z          second\n",
    "=#"
   ]
  },
  {
   "cell_type": "code",
   "execution_count": 5,
   "metadata": {},
   "outputs": [
    {
     "data": {
      "text/plain": [
       "rhopair"
      ]
     },
     "metadata": {},
     "output_type": "display_data"
    }
   ],
   "source": [
    "# Adjust true vertical velocity for relative wind * sin(tilt)\n",
    "# and the platform velocity\n",
    "trigs(pitch, roll) = ( cos(pitch), sin(pitch), cos(roll), sin(roll) )\n",
    "# cospitch, sinpitch, cosroll, sinroll = trigs(pitch, roll)\n",
    "\n",
    "function wtrue(w, Ur, Vr, pitch, roll)\n",
    "    cospitch, sinpitch, cosroll, sinroll = trigs(pitch, roll)\n",
    "    wtrue = ( w + Ur*sinpitch - Vr*cospitch*sinroll ) / (cospitch*cosroll)\n",
    "end\n",
    "\n",
    "# displacements with no adjustment for tilting into the horizontal wind \n",
    "# U, V vary slowly; pitch,roll,w vary fast\n",
    "# there are nt*(nt-1)/2 ~ O(nt^2) outputs, so correct stuff first\n",
    "\n",
    "rangegate = 24.0\n",
    "\"\"\"\n",
    "zm, dr2, dz2, D2 = displacements( ci1,ci2, Udt,Vdt, pitch,roll, w; rangegate=rangegate)\n",
    "Displacements of sample pairs for one (vertical) subvolume.\n",
    "\"\"\"\n",
    "function displacements( ci1,ci2, Udt,Vdt, pitch,roll, w; rangegate=rangegate , timestep=timestep)\n",
    "    # get the individual indices\n",
    "    it1 = map(idx->idx[1], ci1) #  t index of first point(s)\n",
    "    iz1 = map(idx->idx[2], ci1) #  z index of first\n",
    "    it2 = map(idx->idx[1], ci2) #  t       of second points(s)\n",
    "    iz2 = map(idx->idx[2], ci2) #  z          second\n",
    "\n",
    "    rng(iz) = rangegate * (iz-1 + 0.5) # center of gates\n",
    "\n",
    "    # horiz translation of the sample volumes by mean wind\n",
    "    Udtbar = @. (Udt[iz2] + Udt[iz1]) / 2\n",
    "    Vdtbar = @. (Vdt[iz2] + Vdt[iz1]) / 2\n",
    "    X = @. Udtbar * (it2 - it1)\n",
    "    Y = @. Vdtbar * (it2 - it1)\n",
    "    # vertical middle of pair\n",
    "    zm = @. (rng(iz2) * cos(pitch[it2])*cos(roll[it2]) + rng(iz1) * cos(pitch[it1])*cos(roll[it1])) / 2\n",
    "    # displacement between pair of points\n",
    "    dz = @.     rng(iz2) * cos(pitch[it2])*cos(roll[it2]) - rng(iz1) * cos(pitch[it1])*cos(roll[it1])\n",
    "    dx = @. X + rng(iz2) *-sin(pitch[it2])                - rng(iz1) *-sin(pitch[it1])\n",
    "    dy = @. Y + rng(iz2) * cos(pitch[it2])*sin(roll[it2]) - rng(iz1) * cos(pitch[it1])*sin(roll[it1])\n",
    "    # distance between\n",
    "    dz2 = dz .* dz\n",
    "    dr2 = @. dz2 + dx*dx + dy*dy\n",
    "    # CORRECT W for HEAVE and for TILTING into the horizontal wind\n",
    "    # vel structure function\n",
    "    D2 = @. (w[ci2] - w[ci1])^2\n",
    "    # return properties of pairs\n",
    "    return zm, dr2, dz2, D2\n",
    "end\n",
    "\n",
    "\"dr^2/3 (1-(dz/dr)^2/4) displacement function for computing dissipation from structure function pairs\"\n",
    "rhopair(dr2, dz2) = dr2^(1/3) * (1 - dz2/(4*dr2))"
   ]
  },
  {
   "cell_type": "markdown",
   "metadata": {},
   "source": [
    "## example load data sets"
   ]
  },
  {
   "cell_type": "code",
   "execution_count": 6,
   "metadata": {},
   "outputs": [
    {
     "data": {
      "text/plain": [
       "get_time_shift"
      ]
     },
     "metadata": {},
     "output_type": "display_data"
    }
   ],
   "source": [
    "# functions to resynchronize the lidar clock\n",
    "\n",
    "# make filter\n",
    "responsetype = Highpass(1/80; fs=1)\n",
    "designmethod = Butterworth(4)\n",
    "\"highpass filter\"\n",
    "hp(x) = filtfilt(digitalfilter(responsetype, designmethod), x)\n",
    "\n",
    "\"\"\"\n",
    "get_time_shift(mdv, heave) positive result means mdv clock is fast.\n",
    "sync by subtracting this lag (index) from stare_dt.\n",
    "\"\"\"\n",
    "function get_time_shift(mdv, heave)\n",
    "    # filter to make xcorr work better\n",
    "    xc = xcorr(hp(mdv[:]), hp(heave[:]))\n",
    "    # plot(-(length(mdv)-1):length(mdv)-1, xc )\n",
    "    return argmax(xc) - length(mdv)\n",
    "end\n",
    "\n",
    "# broken:\n",
    "# \"\"\"\n",
    "# Returns the decremented stare_dt by time offset subtracted from the lidar clock.\n",
    "# \"\"\"\n",
    "# function sync_lidar_clock(stare_dt, mdv, heave)\n",
    "#     lidar_clock_fast_by = Millisecond( 1020*get_time_shift(mdv[:],heave[:]) ) # first adjustment\n",
    "#     # return decremented clock\n",
    "#     return stare_dt.+lidar_clock_fast_by, lidar_clock_fast_by\n",
    "# end"
   ]
  },
  {
   "cell_type": "code",
   "execution_count": 7,
   "metadata": {},
   "outputs": [
    {
     "data": {
      "text/plain": [
       "3201-element Vector{Millisecond}:\n",
       " 1030 milliseconds\n",
       " 1020 milliseconds\n",
       " 1020 milliseconds\n",
       " 1020 milliseconds\n",
       " 1020 milliseconds\n",
       " 1030 milliseconds\n",
       " 1020 milliseconds\n",
       " 1020 milliseconds\n",
       " 1020 milliseconds\n",
       " 1020 milliseconds\n",
       " ⋮\n",
       " 1020 milliseconds\n",
       " 1020 milliseconds\n",
       " 1020 milliseconds\n",
       " 1020 milliseconds\n",
       " 1020 milliseconds\n",
       " 1030 milliseconds\n",
       " 1020 milliseconds\n",
       " 1020 milliseconds\n",
       " 1020 milliseconds"
      ]
     },
     "metadata": {},
     "output_type": "display_data"
    }
   ],
   "source": [
    "#example time\n",
    "dt = DateTime(2024,5,8,6,0,0)\n",
    "# heave channel constant on 2024-5-12\n",
    "# no mean wind on 2024-05-12\n",
    "\n",
    "# load vectornav\n",
    "Vn = read_daily_Vn( dt )            # Dict\n",
    "\n",
    "# load mean relative horizontal winds\n",
    "UV = get_daily_meanuv( dt )         # NCDataset\n",
    "# relative wind computed by Jayesh Phadtare\n",
    "\n",
    "# load hourly lidar w stares\n",
    "ntop = 80       # subset\n",
    "timestep = 1.02 # s\n",
    "# TO DO: read the next hour to get continuous chunk at end ...\n",
    "St, _ = read_streamlinexr_stare( dt )\n",
    "height = St[:height][1:ntop]\n",
    "\n",
    "# time subsets\n",
    "stare_dt_raw = @. DateTime(Date(dt)) + Millisecond(Int64( St[:time] * 3_600_000 )) # 3202\n",
    "# Lidar clock is fast (ahead) by 126832 milliseconds compared to the GPS.\n",
    "# Moving the timeseries backward (lagging the lidar) compensates its clock error.\n",
    "# adjust the lidar clock backward to agee with the GPS clock.\n",
    "lidar_clock_fast_by = Millisecond( 126832 ) # first adjustment\n",
    "stare_dt = stare_dt_raw .- lidar_clock_fast_by\n",
    "diff(stare_dt) # 1.02 - 1.03 s sampling period"
   ]
  },
  {
   "cell_type": "code",
   "execution_count": 14,
   "metadata": {},
   "outputs": [
    {
     "data": {
      "text/plain": [
       "interp_heave"
      ]
     },
     "metadata": {},
     "output_type": "display_data"
    }
   ],
   "source": [
    "# Sync lidar and vectornav in 2 steps:\n",
    "# 1. shift 1 Hz lidar index to match Vn\n",
    "# 2. finely shift 20 Hz Vn heave to match mean Doppler velocity\n",
    "\n",
    "\"\"\"\n",
    "dt = sync_lidar2heave( stare1dt, mdv, Vn )\n",
    "returns lidar time that syncs mdv to V[\"heave\"]\n",
    "\"\"\"\n",
    "function sync_lidar2heave( stare1dt, mdv, Vn )\n",
    "    ind = findindices( stare1dt, Vn[\"time\"] )\n",
    "    # heave = Vn[\"heave\"][ind]\n",
    "    heave = indavg( Vn[\"heave\"], ind )\n",
    "    shift = get_time_shift(mdv[:],heave[:]) # index of time shift\n",
    "    # refine the lidar time\n",
    "    shiftt = stare1dt[shift+1] - stare1dt[1]\n",
    "    stare1dt .- shiftt # Millisecond((1020)*shift)\n",
    "end\n",
    "\n",
    "\"reinterpolate heave to the time of lidar\"\n",
    "function interp_heave( stare2dt, Vn )\n",
    "  ind = findindices( stare2dt, Vn[\"time\"] )\n",
    "  indavg( Vn[\"heave\"], ind ), ind\n",
    "end"
   ]
  },
  {
   "cell_type": "code",
   "execution_count": 15,
   "metadata": {},
   "outputs": [
    {
     "ename": "StackOverflowError",
     "evalue": "StackOverflowError:",
     "output_type": "error",
     "traceback": [
      "StackOverflowError:\n",
      "\n",
      "Stacktrace:\n",
      " [1] filtfilt(f::SecondOrderSections{:z, Float64, Float64}, x::Tuple{Vector{Float64}, Vector{Int64}}) (repeats 79984 times)\n",
      "   @ DSP.Filters ~/.julia/packages/DSP/eKP6r/src/Filters/filt.jl:339"
     ]
    }
   ],
   "source": [
    "# split into individual stare chunks and compare timing\n",
    "\n",
    "# A stare time interval goes from 5:15 to 14:22 (367 s), 53 seconds mean wind scan, then 15:15-24:22, etc.\n",
    "# The first and last chunks are partial, split between earlier and later hourly data files.\n",
    "# First cut, ignore the partial chunks.\n",
    "pickets = findall( t -> t>Second(30), diff(stare_dt) )\n",
    "# st = [1; pickets.+1] # ignore start and end of file with a split chunk\n",
    "# en = [pickets; length(stare_dt)]\n",
    "st_chunk = pickets[1:end-1] .+ 1\n",
    "en_chunk = pickets[2:end]\n",
    "\n",
    "# loop over continuous chunks\n",
    "  # for (ich, st) in enumerate(st_chunk) ...\n",
    "# test one chunk\n",
    "st = st_chunk[5]\n",
    "en = en_chunk[5]\n",
    "\n",
    "# dopplervel (time, z) masked by intensity\n",
    "# intensity = St[:intensity]\n",
    "dopplervel = masklowi.(St[:dopplervel][st:en,1:ntop], St[:intensity][st:en,1:ntop])\n",
    "mdv = missmean(dopplervel, dims=2)[:]\n",
    "# do not use pitch and roll from the lidar, they're bad\n",
    "# pitch = St[:pitch][st:en] # from lidar\n",
    "# roll =  St[:roll ][st:en]\n",
    "\n",
    "# interpolate Ur,Vr, heave to the lidar stare grid\n",
    "# My simple 1D interpolation is way faster than Interpolations.interpolate.\n",
    "ind = findindices( stare_dt[st:en], Vn[\"time\"] )\n",
    "# vntime = indavg( Vn[\"time\"], ind)\n",
    "pitch = indavg( Vn[\"pitch\"], ind) # 11-point mean\n",
    "roll  = indavg( Vn[\"roll\" ], ind)\n",
    "heave = indavg( Vn[\"heave\"], ind)\n",
    "\n",
    "# resync the clock to the VectorNav heave\n",
    "# stare1dt = stare_dt[st:en] # subset\n",
    "stare2dt = sync_lidar2heave( stare_dt[st:en], mdv, Vn )\n",
    "\n",
    "let\n",
    "  ind = findindices( stare2dt, Vn[\"time\"] ) # this works\n",
    "  # fixed hardwired \n",
    "  # ind = findindices( stare1dt .- Millisecond((1020-20)*shift), Vn[\"time\"] ) # this works\n",
    "  # heave = Vn[\"heave\"][ind]\n",
    "  heave = indavg( Vn[\"heave\"], ind ) #; full=20 )\n",
    "  # now from within 1 sample (1 s), adjust Vn index to sync heave to stare2dt\n",
    "  # heave2 = indavg( Vn[\"heave\"], ind) # off by half a 1 Hz lidar index, = 10 heave indices\n",
    "  # ^ fix by doing rightward averages\n",
    "end\n",
    "\n",
    "# \"reinterpolate heave to the time of lidar\"\n",
    "# functon interp_heave( stare2dt, Vn ) \n",
    "#   ind = findindices( stare2dt, Vn[\"time\"] )\n",
    "#   indavg( Vn[\"heave\"], ind ), ind\n",
    "# end\n",
    "heave = interp_heave( stare2dt, Vn )\n",
    "\n",
    "clf()\n",
    "subplot(2,1,1)\n",
    "plot(hp(mdv)) # off by half a 1 Hz lidar index, = 10 heave indices\n",
    "plot(hp(heave))\n",
    "xlim([400, 440])\n",
    "# check lags\n",
    "xc = xcorr( hp(mdv[:]), hp(heave) )\n",
    "subplot(2,1,2)\n",
    "plot( -(length(mdv)-1):length(mdv)-1, xc )\n",
    "xlim([-40, 40])\n",
    "gcf()\n",
    "#length(xc), 2*(length(mdv)-1) + 1\n",
    "# argmax(xc) - length(mdv) # --> -1 # 0-lag center moved to 0\n",
    "# length(xc), length(mdv), 2*length(heave)\n",
    "\n",
    "# this timing looks good"
   ]
  },
  {
   "cell_type": "code",
   "execution_count": 10,
   "metadata": {},
   "outputs": [
    {
     "data": {
      "text/plain": [
       "1-element Vector{PyCall.PyObject}:\n",
       " PyObject <matplotlib.lines.Line2D object at 0x341950e50>"
      ]
     },
     "metadata": {},
     "output_type": "display_data"
    }
   ],
   "source": [
    "# now get the component of dopplervel coherent with heave,pitch,roll\n",
    "# allowing for phase shifts\n",
    "mdv_clean_heave, _ = remove_coherent_component( Float64.(mdv), Float64.(heave) )\n",
    "mdv_remove = mdv .- mdv_clean_heave # works\n",
    "# # mdv_heave = mdv .- mdv_clean_heave\n",
    "# # removing subsequent components doesn't work\n",
    "# mdv_clean_heavepitch, _ = remove_coherent_component( Float64.(mdv_clean_heave), Float64.(pitch) )\n",
    "# # mdv_clean_heavepitchroll, _ = remove_coherent_component( Float64.(mdv_clean_heavepitch), Float64.(roll) )\n",
    "# mdv_remove = mdv .- mdv_clean_heavepitchroll\n",
    "\n",
    "# plot(mdv)\n",
    "plot(mdv_clean_heave)\n",
    "# plot(mdv_clean_heavepitch)"
   ]
  },
  {
   "cell_type": "code",
   "execution_count": 11,
   "metadata": {},
   "outputs": [
    {
     "data": {
      "text/plain": [
       "537-element Vector{DateTime}:\n",
       " 2024-05-08T06:42:55.726\n",
       " 2024-05-08T06:42:56.886\n",
       " 2024-05-08T06:42:57.940\n",
       " 2024-05-08T06:42:58.947\n",
       " 2024-05-08T06:42:59.959\n",
       " 2024-05-08T06:43:01.013\n",
       " 2024-05-08T06:43:02.018\n",
       " 2024-05-08T06:43:03.029\n",
       " 2024-05-08T06:43:04.038\n",
       " 2024-05-08T06:43:05.093\n",
       " ⋮\n",
       " 2024-05-08T06:51:55.420\n",
       " 2024-05-08T06:51:56.479\n",
       " 2024-05-08T06:51:57.490\n",
       " 2024-05-08T06:51:58.494\n",
       " 2024-05-08T06:51:59.499\n",
       " 2024-05-08T06:52:00.611\n",
       " 2024-05-08T06:52:01.619\n",
       " 2024-05-08T06:52:02.675\n",
       " 2024-05-08T06:52:03.688"
      ]
     },
     "metadata": {},
     "output_type": "display_data"
    }
   ],
   "source": [
    "# check vectornav time interp to \n",
    "vntime = Vn[\"time\"][ind]\n",
    "\n",
    "# seconds since dt0\n",
    "\"offset seconds since dt0\"\n",
    "toffs(dt, dt0=DateTime(2024,4,1)) = Millisecond( dt - dt0 ).value / 1000 # seconds\n",
    "\"datetime by adding time in seconds to dt0. Inverse of toffs\"\n",
    "tons(toffs, dt0=DateTime(2024,4,1)) = Millisecond(round(Int64, 1000*toffs)) + dt0\n",
    "\n",
    "vntoffs = toffs.( Vn[\"time\"] )\n",
    "# test indavg\n",
    "vndt_int = tons.(indavg( vntoffs, ind ))\n",
    "\n",
    "# subplot(2,1,2)\n",
    "# plot(Dates.value.(Millisecond.(vndt_int.-stare_dt[st:en])))\n",
    "# interpolated time axis agrees within ~50 milliseconds--just fine."
   ]
  },
  {
   "cell_type": "code",
   "execution_count": 12,
   "metadata": {},
   "outputs": [
    {
     "ename": "UndefVarError",
     "evalue": "UndefVarError: `stare1dt` not defined in `Main`\nSuggestion: check for spelling errors or missing imports.",
     "output_type": "error",
     "traceback": [
      "UndefVarError: `stare1dt` not defined in `Main`\n",
      "Suggestion: check for spelling errors or missing imports.\n",
      "\n",
      "Stacktrace:\n",
      " [1] top-level scope\n",
      "   @ ~/Projects/ASTRAL/lidar/jl_notebook_cell_df34fa98e69747e1a8f8a730347b8e2f_X15sZmlsZQ==.jl:3"
     ]
    }
   ],
   "source": [
    "clf()\n",
    "subplot(2,1,1)\n",
    "plot(stare1dt, heave, linewidth=0.5)\n",
    "plot(stare1dt, mdv, linewidth=0.5)\n",
    "plot(stare1dt, mdv - heave, linewidth=0.5) # subtract heave because its downward\n",
    "gcf()\n",
    "# Heave beats with the mean doppler velocity.\n",
    "# Suspect one or more clocks is bad."
   ]
  },
  {
   "cell_type": "code",
   "execution_count": null,
   "metadata": {},
   "outputs": [],
   "source": [
    "# Ur, Vr called out of order???\n",
    "\n",
    "Ur = zeros(size(dopplervel))\n",
    "Vr = zeros(size(dopplervel))\n",
    "ind = findindices( Dates.value.(stare1dt), Dates.value.(UV[\"time\"]))\n",
    "for ih in 1:ntop # loop to broadcast to consistent size\n",
    "    # Ur[:,ih] .= indavg( UV[:ur][:,ih], ind )\n",
    "    # Vr[:,ih] .= indavg( UV[:vr][:,ih], ind )\n",
    "    Ur[:,ih] .= UV[:ur][ind,ih]\n",
    "    Vr[:,ih] .= UV[:vr][ind,ih]\n",
    "end"
   ]
  },
  {
   "cell_type": "code",
   "execution_count": 24,
   "metadata": {},
   "outputs": [
    {
     "data": {
      "text/plain": [
       "37968-element view(::Vector{Float64}, [1, 2, 3, 4, 5, 6, 7, 8, 9, 10  …  42951, 42952, 42953, 42954, 42955, 42956, 42957, 42958, 42959, 42960]) with eltype Float64:\n",
       " -1.8953817387421925\n",
       " -1.8953817387421925\n",
       " -1.8953817387421925\n",
       " -1.8953817387421925\n",
       " -1.8953817387421925\n",
       " -1.8953817387421925\n",
       " -1.8953817387421925\n",
       " -1.8953817387421925\n",
       " -1.8953817387421925\n",
       " -1.8953817387421925\n",
       "  ⋮\n",
       " -1.8953817387421925\n",
       " -1.8953817387421925\n",
       " -1.8953817387421925\n",
       " -1.8953817387421925\n",
       " -1.8953817387421925\n",
       " -1.8953817387421925\n",
       " -1.8953817387421925\n",
       " -1.8953817387421925\n",
       " -1.8953817387421925"
      ]
     },
     "metadata": {},
     "output_type": "display_data"
    }
   ],
   "source": [
    "# questionable: fill all the mean relative velocities\n",
    "isf = isfinite.(Vr)\n",
    "Vr[.!isf] .= mean(Vr[isf])\n",
    "Ur[.!isf] .= mean(Ur[isf])"
   ]
  },
  {
   "cell_type": "code",
   "execution_count": 15,
   "metadata": {},
   "outputs": [],
   "source": [
    "#=\n",
    "plot(stare1dt, pitch)\n",
    "plot(stare1dt, roll )\n",
    "plot(stare1dt, heave)\n",
    "xlim(stare1dt[[1, 60]])\n",
    "=#"
   ]
  },
  {
   "cell_type": "code",
   "execution_count": 17,
   "metadata": {},
   "outputs": [
    {
     "ename": "UndefVarError",
     "evalue": "UndefVarError: `Ur` not defined in `Main`\nSuggestion: check for spelling errors or missing imports.",
     "output_type": "error",
     "traceback": [
      "UndefVarError: `Ur` not defined in `Main`\n",
      "Suggestion: check for spelling errors or missing imports.\n",
      "\n",
      "Stacktrace:\n",
      " [1] top-level scope\n",
      "   @ ~/Projects/ASTRAL/lidar/jl_notebook_cell_df34fa98e69747e1a8f8a730347b8e2f_X22sZmlsZQ==.jl:17"
     ]
    }
   ],
   "source": [
    "mm = @. minute(stare1dt) + (second(stare1dt) + millisecond(stare1dt)/1000 )/60\n",
    "\n",
    "clf()\n",
    "subplot(3,1,1)\n",
    "pcolormesh(mm, height[1:ntop]/1e3, m2n.(pd(dopplervel.-mdv)), cmap=ColorMap(\"RdYlBu_r\"), vmin=-1, vmax=1)\n",
    "colorbar()\n",
    "title(\"vel - mdv\")\n",
    "ylim([0, 1])\n",
    "\n",
    "subplot(3,1,2)\n",
    "pcolormesh(mm, height[1:ntop]/1e3, m2n.(pd(dopplervel.-mdv_remove)), cmap=ColorMap(\"RdYlBu_r\"), vmin=-1, vmax=1)\n",
    "colorbar()\n",
    "title(\"vel - mdv coherent with heave\")\n",
    "ylim([0, 1])\n",
    "\n",
    "subplot(3,1,3)\n",
    "w = wtrue.(dopplervel.-heave, Ur, Vr, pitch*pi/180, roll*pi/180)\n",
    "w = wtrue.(dopplervel, Ur, Vr, pitch*pi/180, roll*pi/180)\n",
    "pcolormesh(mm, height[1:ntop]/1e3, m2n.(pd(w)), cmap=ColorMap(\"RdYlBu_r\"), vmin=-1, vmax=1)\n",
    "colorbar()\n",
    "title(\"w heave and tilt angle decompostion\")\n",
    "ylim([0, 1])\n",
    "\n",
    "tight_layout()\n",
    "# Corrections in wtrue (other than adding the -heave) do not seem to be important\n",
    "# at this time. Motion compensation is probably working, then.\n",
    "\n",
    "# savefig(\"dopplervel_eg.png\")"
   ]
  },
  {
   "cell_type": "markdown",
   "metadata": {},
   "source": [
    "## prepare the structure function analysis"
   ]
  },
  {
   "cell_type": "code",
   "execution_count": 18,
   "metadata": {},
   "outputs": [
    {
     "data": {
      "text/plain": [
       "epsilon (generic function with 1 method)"
      ]
     },
     "metadata": {},
     "output_type": "display_data"
    }
   ],
   "source": [
    "# stucture function constants\n",
    "C2ll = 2.0\n",
    "epsilon(A) = sqrt(3/4 * A/C2ll)^3\n",
    "# struf(epsilon, r,r1) = C2ll * epsilon^(2/3) * r^(2/3) * (4 - (r1/r)^2)/3\n",
    "# instruf(w1,w2) = (w1-w2)^2\n",
    "# rho(r1,r) = r^(2/3) * (1 - ((r1/r)^2)/4)\n",
    "# zmid(z1,z2) = (z1 + z2) / 2\n",
    "# plot bin averaged instruf vs rho\n",
    "# fit \n",
    "# D = A*rho + noise\n",
    "# for A and noise\n",
    "# A = 4/3 * C2ll * epsilon^(2/3)\n"
   ]
  },
  {
   "cell_type": "code",
   "execution_count": 19,
   "metadata": {},
   "outputs": [
    {
     "ename": "UndefVarError",
     "evalue": "UndefVarError: `w` not defined in `Main`\nSuggestion: check for spelling errors or missing imports.",
     "output_type": "error",
     "traceback": [
      "UndefVarError: `w` not defined in `Main`\n",
      "Suggestion: check for spelling errors or missing imports.\n",
      "\n",
      "Stacktrace:\n",
      " [1] top-level scope\n",
      "   @ ~/Projects/ASTRAL/lidar/jl_notebook_cell_df34fa98e69747e1a8f8a730347b8e2f_X25sZmlsZQ==.jl:1"
     ]
    }
   ],
   "source": [
    "(nt, nz) = size(w)\n",
    "z1 = 7\n",
    "ci1,ci2, li1,li2, it1,iz1,it2,iz2 = lidarindices(nt, nz, z1) # might do outside the loop\n",
    "zm, dr2, dz2, D2 = displacements( ci1,ci2, Ur*timestep,Vr*timestep,\n",
    "                                  pitch*pi/180,roll*pi/180, w; timestep=timestep )\n",
    "rho = rhopair.(dr2, dz2) # approx r^2/3"
   ]
  },
  {
   "cell_type": "code",
   "execution_count": 20,
   "metadata": {},
   "outputs": [
    {
     "ename": "UndefVarError",
     "evalue": "UndefVarError: `rho` not defined in `Main`\nSuggestion: check for spelling errors or missing imports.",
     "output_type": "error",
     "traceback": [
      "UndefVarError: `rho` not defined in `Main`\n",
      "Suggestion: check for spelling errors or missing imports.\n",
      "\n",
      "Stacktrace:\n",
      " [1] top-level scope\n",
      "   @ ~/Projects/ASTRAL/lidar/jl_notebook_cell_df34fa98e69747e1a8f8a730347b8e2f_X26sZmlsZQ==.jl:2"
     ]
    }
   ],
   "source": [
    "# devise equally-populated bins\n",
    "nrho = length(rho)\n",
    "nbin = 200\n",
    "sp = sortperm(rho)\n",
    "srho = rho[sp]\n",
    "nin = round(Int32,nrho/nbin)\n",
    "rhobin = [ 0; rho[sp[nin:nin:nrho]] ]\n",
    "# maximum(rho), sort(rho)[length(rho)]\n",
    "# plot(rhopair.(dr2, dz2), zm, marker=\".\", linestyle=\"none\")\n",
    "# hist(rhopair.(dr2, dz2), bins=20)\n",
    "\n",
    "D2bin = binavg(D2, rho, rhobin)\n",
    "D2var = binavg(D2.*D2, rho, rhobin) - D2bin.^2\n",
    "\n",
    "# plot(rho, D2, marker=\".\", linestyle=\"none\", markersize=.5)\n",
    "out = 17\n",
    "A = anom(rhobin[1:out]) \\ anom(D2bin[1:out])\n",
    "noise = mean(D2bin[1:out]) - A*mean(rhobin[1:out]) # noise\n",
    "clf()\n",
    "subplot(2,1,1)\n",
    "plot(rhobin, D2bin, marker=\"*\")\n",
    "plot(rhobin, D2bin.+sqrt.(D2var/nin), color=\"tab:blue\", linewidth=0.4)\n",
    "plot(rhobin, D2bin.-sqrt.(D2var/nin), color=\"tab:blue\", linewidth=0.4)\n",
    "plot([0, 2.2*mean(rhobin[1:17])], noise .+ A.*[0, 2.2*mean(rhobin[1:17])])\n",
    "xlim([0, 80])\n",
    "\n",
    "epsilon(A) # 1.3e-4"
   ]
  },
  {
   "cell_type": "code",
   "execution_count": 21,
   "metadata": {},
   "outputs": [],
   "source": []
  },
  {
   "cell_type": "code",
   "execution_count": 22,
   "metadata": {},
   "outputs": [
    {
     "ename": "UndefVarError",
     "evalue": "UndefVarError: `rhobins` not defined in `Main`\nSuggestion: check for spelling errors or missing imports.",
     "output_type": "error",
     "traceback": [
      "UndefVarError: `rhobins` not defined in `Main`\n",
      "Suggestion: check for spelling errors or missing imports.\n",
      "\n",
      "Stacktrace:\n",
      " [1] top-level scope\n",
      "   @ ~/Projects/ASTRAL/lidar/jl_notebook_cell_df34fa98e69747e1a8f8a730347b8e2f_X31sZmlsZQ==.jl:1"
     ]
    }
   ],
   "source": [
    "r_apx = @. sqrt(rhobins)^3 "
   ]
  },
  {
   "cell_type": "code",
   "execution_count": null,
   "metadata": {},
   "outputs": [],
   "source": []
  }
 ],
 "metadata": {
  "kernelspec": {
   "display_name": "Julia 1.11.1",
   "language": "julia",
   "name": "julia-1.11"
  },
  "language_info": {
   "file_extension": ".jl",
   "mimetype": "application/julia",
   "name": "julia",
   "version": "1.11.1"
  }
 },
 "nbformat": 4,
 "nbformat_minor": 2
}
