{
 "cells": [
  {
   "cell_type": "markdown",
   "id": "12223dec",
   "metadata": {},
   "source": [
    "# compare TKE dissipation rate with rain"
   ]
  },
  {
   "cell_type": "code",
   "execution_count": null,
   "id": "4cf1719b",
   "metadata": {},
   "outputs": [],
   "source": [
    "# preamble\n",
    "using Revise\n",
    "using Pkg; Pkg.activate(\".\")\n",
    "\n",
    "using Dates\n",
    "using Statistics\n",
    "using Rotations\n",
    "using Interpolations\n",
    "using DSP\n",
    "using FFTW\n",
    "using NCDatasets\n",
    "using JLD2\n",
    "using Printf\n",
    "\n",
    "include(\"./read_lidar.jl\")\n",
    "using .read_lidar\n",
    "using .read_lidar.stare\n",
    "using .read_vecnav: read_vecnav_dict\n",
    "import .chunks\n",
    "read_stare_time  = Main.chunks.read_stare_time\n",
    "read_stare_chunk = Main.chunks.read_stare_chunk\n",
    "fit_offset = Main.chunks.fit_offset\n",
    "\n",
    "include(\"./timing_lidar.jl\")\n",
    "using .timing_lidar\n",
    "include(\"./readers.jl\")\n",
    "using .NoaaDas: cat_dicts\n",
    "# using MAT\n",
    "\n",
    "using PyPlot\n",
    "using PyCall\n",
    "using PyCall: PyObject\n",
    "\n",
    "# PyObject method interprets Array{Union{T,Missing}} as a\n",
    "# numpy masked array.\n",
    "# This allows for plotting with missing values.\n",
    "function PyObject(a::Array{Union{T,Missing},N}) where {T,N}\n",
    "    numpy_ma = PyCall.pyimport(\"numpy\").ma\n",
    "    pycall(numpy_ma.array, Any, coalesce.(a,zero(T)), mask=ismissing.(a))\n",
    "end"
   ]
  },
  {
   "cell_type": "code",
   "execution_count": null,
   "id": "d18e2891",
   "metadata": {},
   "outputs": [],
   "source": [
    "# helper functions \n",
    "pd = permutedims\n",
    "m2n(x) = ismissing(x) ? NaN : x"
   ]
  },
  {
   "cell_type": "code",
   "execution_count": null,
   "id": "1c84334d",
   "metadata": {},
   "outputs": [],
   "source": [
    "# load TKE dissipation rate data\n",
    "ds_e = load(\"epsilon_data/epsi_stare_chunks_r20240604_1533.jld\", \"epsi\", \"dtime_st\", \"dtime_en\", \"height\")\n",
    "epsi     = ds_e[\"epsi\"]\n",
    "dtime_st = ds_e[\"dtime_st\"]\n",
    "dtime_en = ds_e[\"dtime_en\"]\n",
    "height   = ds_e[\"height\"]\n",
    "\n",
    "# load PSL met data\n",
    "# candidate files in order of preference\n",
    "files = [ \"./data/../PSL/netcdf/EUREC4A_ATOMIC_RonBrown_10min_nav_met_sea_flux_20200109-20200212_v1.3.nc\",\n",
    "          \"/Users/deszoeks/Projects/ASTRAL/SSTcompare/data/PSL/ASTRAL-nav-met-sea-flux-10min_RV-Thompson_20240428_R1_thru_20240613.nc\" ]\n",
    "filename = files[findfirst(isfile, files)]\n",
    "psl = NCDataset(filename)"
   ]
  },
  {
   "cell_type": "code",
   "execution_count": null,
   "id": "49f17617",
   "metadata": {},
   "outputs": [],
   "source": [
    "# plot\n",
    "\n",
    "clf()\n",
    "subplot(2,1,1)\n",
    "pcolormesh(start_dt, height/1e3, log10.(plotfilt.(pd(epsi))), vmin = -6, vmax = -1.5,\n",
    "        cmap=ColorMap(\"RdYlBu_r\"))\n",
    "pcolormesh(psl[:time], height[1:4]/1e3, log10.(plotfilt.(pd(epsilon0[:,1:4]))), vmin = -6, vmax = -1.5,\n",
    "        cmap=ColorMap(\"RdYlBu_r\"))\n",
    "gca().xaxis.set_major_formatter(matplotlib.dates.DateFormatter(\"%m%d\"))\n",
    "title(\"EKAMSAT atmospheric BL TKE dissipation rate\")\n",
    "# plot(psl[:time][:], 0.5*psl[:prate][:], linewidth=0.5, color=\"blue\")\n",
    "# plot(psl[:time][:], 0.1*psl[:wspd_10][:], linewidth=0.5, color=\"k\")\n",
    "# plot(psl[:time][:], 0.1*psl[:rspd][:], linewidth=0.5, color=\"k\")\n",
    "# # plot(psl[:time][:], 0.75 .+ 0.75/180*psl[:rdir][:], linewidth=0.5, color=\"m\")\n",
    "# plot(psl[:time][:], 1000*bflx0, linewidth=0.5, color=\"r\")\n",
    "xlim([DateTime(2024,4,29), DateTime(2024,5,14)])\n",
    "# xlim([DateTime(2024,5,2), DateTime(2024,5,4)])\n",
    "ylim([0, 1.5])\n",
    "gca().set_facecolor(0.6.+[0,0,0])\n",
    "gca().xaxis.set_major_formatter(matplotlib.dates.DateFormatter(\"%m.%d\"))\n",
    "\n",
    "subplot(2,1,2)\n",
    "pcolormesh(psl[:time], height[1:4]/1e3, log10.(plotfilt.(pd(epsilon0[:,1:4]))), vmin = -6, vmax = -1.5,\n",
    "        cmap=ColorMap(\"RdYlBu_r\"))\n",
    "pcolormesh(start_dt, height/1e3, log10.(plotfilt.(pd(epsi))), vmin = -6, vmax = -1.5,\n",
    "        cmap=ColorMap(\"RdYlBu_r\"))\n",
    "# plot(psl[:time][:], 0.5*psl[:prate][:], linewidth=0.5, color=\"blue\")\n",
    "# plot(psl[:time][:], 0.1*psl[:wspd_10][:], linewidth=0.5, color=\"k\")\n",
    "# plot(psl[:time][:], 0.1*psl[:rspd][:], linewidth=0.5, color=\"k\")\n",
    "# # plot(psl[:time][:], 0.75 .+ 0.75/180*psl[:rdir][:], linewidth=0.5, color=\"m\")\n",
    "# plot(psl[:time][:], 1000*bflx0, linewidth=0.5, color=\"r\")\n",
    "xlim([DateTime(2024,6,1), DateTime(2024,6,11)])\n",
    "# xlim([DateTime(2024,6,2), DateTime(2024,6,4)])\n",
    "ylim([0, 1.5])\n",
    "gca().set_facecolor(0.6.+[0,0,0])\n",
    "gca().xaxis.set_major_formatter(matplotlib.dates.DateFormatter(\"%m.%d\"))\n",
    "cb = colorbar(); cb.set_label(\"log\"*L\"_{10}\\epsilon\")\n",
    "tight_layout()\n",
    "gcf()"
   ]
  },
  {
   "cell_type": "code",
   "execution_count": null,
   "id": "873d8a41",
   "metadata": {},
   "outputs": [],
   "source": [
    "# interpolate psl to lidar time\n",
    "\"convert datetime to Integer milliseconds, which interpolate can handle.\"\n",
    "dt2ms(dt, dt0=DateTime(2024,4,1)) = Dates.value(Millisecond(dt - dt0))\n",
    "\"interpolate from psl datetime to lidar dt\"\n",
    "interp_psl_to_lidar(y; psldt=psl[:time][:], lidardt=start_dt) = \n",
    "    interpolate( (dt2ms.(psldt), ), y, Gridded(Linear()) )(dt2ms.(lidardt)) # returns a vector"
   ]
  }
 ],
 "metadata": {
  "language_info": {
   "name": "python"
  }
 },
 "nbformat": 4,
 "nbformat_minor": 5
}
