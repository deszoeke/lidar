{
 "cells": [
  {
   "cell_type": "code",
   "execution_count": 74,
   "metadata": {},
   "outputs": [
    {
     "name": "stderr",
     "output_type": "stream",
     "text": [
      "\u001b[32m\u001b[1m  Activating\u001b[22m\u001b[39m project at `~/Projects/ASTRAL/lidar`\n",
      "WARNING: replacing module NoaaDas.\n",
      "WARNING: replacing module DasGps.\n",
      "WARNING: replacing module DasScs.\n",
      "WARNING: replacing module ShipPosmv.\n",
      "WARNING: replacing module DasFps.\n",
      "WARNING: replacing module read_lidar.\n",
      "WARNING: replacing module read_vecnav.\n",
      "WARNING: ignoring conflicting import of read_vecnav.read_vecnav_dict into Main\n",
      "WARNING: replacing module timing_lidar.\n"
     ]
    }
   ],
   "source": [
    "using Revise\n",
    "using Pkg; Pkg.activate(\".\")\n",
    "\n",
    "using Dates\n",
    "using Statistics # limited set of methods included in Julia Base\n",
    "using StatsBase  # extends Statistics with more functions\n",
    "using Rotations\n",
    "using FFTW\n",
    "# using SignalAlignment\n",
    "using Interpolations\n",
    "using PyPlot\n",
    "using JLD2\n",
    "# using MAT\n",
    "\n",
    "include(\"./readers.jl\")\n",
    "using .ShipPosmv\n",
    "\n",
    "include(\"./read_lidar.jl\")\n",
    "using .read_vecnav: read_vecnav_dict\n",
    "\n",
    "include(\"./timing_lidar.jl\")\n",
    "using .timing_lidar"
   ]
  },
  {
   "cell_type": "code",
   "execution_count": 40,
   "metadata": {},
   "outputs": [
    {
     "data": {
      "text/plain": [
       "plotf (generic function with 1 method)"
      ]
     },
     "metadata": {},
     "output_type": "display_data"
    }
   ],
   "source": [
    "# helper functions\n",
    "pd = permutedims\n",
    "m2n(x) = ismissing(x) ? NaN : x\n",
    "\n",
    "anom(x; dims=1) = x .- mean(x; dims=dims)\n",
    "\n",
    "# functional wrapper for PyPlot plot\n",
    "plotf(f::Function, x, va...) = plot(x, f.(x), va...)"
   ]
  },
  {
   "cell_type": "code",
   "execution_count": 2,
   "metadata": {},
   "outputs": [
    {
     "data": {
      "text/plain": [
       "3×3 RotXY{Float64} with indices SOneTo(3)×SOneTo(3)(0.174533, 0.0872665):\n",
       "  0.996195   0.0        0.0871557\n",
       "  0.0151344  0.984808  -0.172987\n",
       " -0.0858317  0.173648   0.98106"
      ]
     },
     "metadata": {},
     "output_type": "display_data"
    }
   ],
   "source": [
    "# rotations example\n",
    "\n",
    "# RotXY(roll, pitch) # radians\n",
    "# matrix that rotates around y (pitch), then by x (roll) in radians\n",
    "RotXY(10/180*pi, 5/180*pi)"
   ]
  },
  {
   "cell_type": "markdown",
   "metadata": {},
   "source": [
    "Use `RotXY(ϕ, θ)` when there is no stabilization; i.e., the lidar is strapped down to the deck, as in the first part of EKAMSAT leg 2."
   ]
  },
  {
   "cell_type": "markdown",
   "metadata": {},
   "source": [
    "\n",
    "In the second part of EKAMSAT leg 2, the stabilization was working only for the roll axis.\n",
    "The pitch axis was strapped, so we can synchronize using the pitch angle as in `vectornav.ipynb`.\n",
    "To start, assume the pitch gimbal is strapped level to the ship deck (there might be a small offset angle).\n",
    "If the roll stabilization works well, then the lidar coordinate system is rotated only by the pitch angle about the y axis.\n",
    "Use `RotY(θ)` for this rotation matrix."
   ]
  },
  {
   "cell_type": "markdown",
   "metadata": {},
   "source": [
    "For leg 1 we assume it's fully stabilized, so we can measure the difference between the heave at the lidar and at the POSMV.\n",
    "The heave measured by the POSMV is assumed to be vertical, and the heave at the VectorNav on the lidar, is also vertical when stabilized.\n",
    "In this case, the displacement moments $(L_x, L_y, L_z)$ between the lidar and the POSMV are responsible for the difference in heave vertical velocity at the lidar $w$ compared to the POSMV $w_0$,\n",
    "$$\n",
    "w' = w - w_0 = A\\theta + B\\phi,\\\\\n",
    "A = (L_x^2 + L_z^2)^{1/2},\\\\\n",
    "B = (L_y^2 + L_z^2)^{1/2}\n",
    "$$\n",
    "where $\\theta$ is the pitch and $\\phi$ is the roll. This is a regression problem for ${\\bf a} = [A; B]$, given $w'$ and $v=[\\theta; \\phi]$.\n",
    "\n",
    "$$\n",
    "{\\bf w'} = {\\bf av}\\\\\n",
    "{\\bf a} = {\\bf w'}{\\bf v}^{-1} = {\\bf v}\\backslash {\\bf w'}.\n",
    "$$"
   ]
  },
  {
   "cell_type": "markdown",
   "metadata": {},
   "source": [
    "The rotations and angular rates are each in different coordinate systems. \n",
    "It is convenient to add velocity vectors in the pitched (but not rolled) coordinate system, denoted by a prime ($'$).\n",
    "The lidar is in pitched and rolled coordinate system denoted by double-prime ($''$).\n",
    "The velocity vector in the pitched coordinate is\n",
    "$$\n",
    "{\\bf u}' =  {\\bf u}_p' + {\\bf u}_r' + {\\bf w}'_0,\\\\\n",
    "{\\bf w}'_0 = {\\bf R}_\\theta{\\bf w}_0 = {\\bf R}_\\theta(0,0,w_0),\\\\\n",
    "{\\bf u}_p' = {\\bf R}_\\theta {\\bf u}_p = {\\bf R}_\\theta\\dot{\\theta}(-L_z,0,L_x),\\\\\n",
    "{\\bf u}_r' = \\dot\\phi(0, L_z,-L_y).\n",
    "$$\n",
    "In the lidar coordinate system,\n",
    "$$\n",
    "{\\bf u}'' = {\\bf R}_\\phi{\\bf u}'.\n",
    "$$\n",
    "When strapped down, the VectorNav measures one component of ${\\bf u}''$, nominally the component in the upward $z$-direction.\n"
   ]
  },
  {
   "cell_type": "markdown",
   "metadata": {},
   "source": [
    "In leg 2 part 2 the pitch stabilization gimbal failed\n",
    "and was strapped down, but the roll stabilization continued. \n",
    "For this time, we synchronize the POSMV and VectorNav \n",
    "time using the unstabilized pitch angle, and then regress for coefficients\n",
    "that explain the observed platform velocity in the lidar frame from\n",
    "rotations about the POSMV.\n"
   ]
  },
  {
   "cell_type": "markdown",
   "metadata": {},
   "source": [
    "### Procedure\n",
    "1. Read POSMV and VectorNav data.\n",
    "2. Synchronize time in 2-10 min windows.\n",
    "    - using POSMV pitch and VectorNav roll for leg 2, part 2.\n",
    "3. Regress pitch and roll angles on heave to get moments $L_x, Ly, Lz$."
   ]
  },
  {
   "cell_type": "code",
   "execution_count": 86,
   "metadata": {},
   "outputs": [
    {
     "name": "stderr",
     "output_type": "stream",
     "text": [
      "WARNING: method definition for fft_derivative at /home/deszoeks/Projects/ASTRAL/lidar/jl_notebook_cell_df34fa98e69747e1a8f8a730347b8e2f_X11sdnNjb2RlLXJlbW90ZQ==.jl:5 declares type variable T but does not use it.\n"
     ]
    },
    {
     "data": {
      "text/plain": [
       "w_angles (generic function with 3 methods)"
      ]
     },
     "metadata": {},
     "output_type": "display_data"
    }
   ],
   "source": [
    "# differentiate POSMV angles to get angular rates\n",
    "dt = 0.5 # sampling interval\n",
    "\n",
    "\"derivative by FFT, assuming sampling rate of 1.\"\n",
    "function fft_derivative(f::AbstractVector) where T <: Real\n",
    "    N = length(f) \n",
    "    k = collect(fftfreq( N )) * 2π  # angular frequencies (wavenumbers)\n",
    "    # for even N exclude Nyquist frequency according to SG Johnson\n",
    "    # https://math.mit.edu/~stevenj/fft-deriv.pdf\n",
    "    if iseven(N)\n",
    "        k[Integer(N/2)] = 0\n",
    "    end\n",
    "    F_deriv = 1im * k .* fft(f)    # multiply FFT by i*k in the frequency domain\n",
    "    return real( ifft(F_deriv) )     # inverse FFT to get the derivative in time domain\n",
    "end\n",
    "\n",
    "raw\"the angle- and angular-rate coefficient vector V of L = V\\w\"\n",
    "function w_angles(θ, ϕ, θrate=fft_derivative(θ)/dt, ϕrate=fft_derivative(ϕ)/dt)\n",
    "    v1 = @. θrate*cos(ϕ)*cos(θ)\n",
    "    v2 = @. ϕrate*cos(ϕ)\n",
    "    v3 = @. ϕrate*sin(ϕ) + θrate*cos(ϕ)*sin(θ)\n",
    "    return [v1, v2, v3] # vector\n",
    "end"
   ]
  },
  {
   "cell_type": "code",
   "execution_count": 104,
   "metadata": {},
   "outputs": [
    {
     "data": {
      "text/plain": [
       "42870733-element Vector{DateTime}:\n",
       " 2024-04-29T05:25:42.128\n",
       " 2024-04-29T05:25:42.178\n",
       " 2024-04-29T05:25:42.228\n",
       " 2024-04-29T05:25:42.278\n",
       " 2024-04-29T05:25:42.328\n",
       " 2024-04-29T05:25:42.378\n",
       " 2024-04-29T05:25:42.428\n",
       " 2024-04-29T05:25:42.478\n",
       " 2024-04-29T05:25:42.528\n",
       " 2024-04-29T05:25:42.578\n",
       " ⋮\n",
       " 2024-06-10T23:25:22.372\n",
       " 2024-06-10T23:25:22.422\n",
       " 2024-06-10T23:25:22.472\n",
       " 2024-06-10T23:25:22.522\n",
       " 2024-06-10T23:25:22.572\n",
       " 2024-06-10T23:25:22.622\n",
       " 2024-06-10T23:25:22.672\n",
       " 2024-06-10T23:25:22.722\n",
       " 2024-06-10T23:25:22.772"
      ]
     },
     "metadata": {},
     "output_type": "display_data"
    }
   ],
   "source": [
    "# read data\n",
    "\n",
    "# Vn = read_vecnav_dict()\n",
    "# Pashr = Dict(Symbol(key) => value for (key, value) in load(\"./data/table/ASTraL_POSMV.jld2\"))\n",
    "\n",
    "ϕ = Pashr[:roll]  * pi/180\n",
    "θ = Pashr[:pitch] * pi/180\n",
    "w_ship = Pashr[:heave]\n",
    "w_lidar = Vn[:VelNED2] # ? [:heave] \n",
    "\n",
    "# time coordinates\n",
    "posmvdt = Pashr[:posmvdt] # UTC convention\n",
    "vndt = Vn[:vndt]          # GPS convention"
   ]
  },
  {
   "cell_type": "code",
   "execution_count": 66,
   "metadata": {},
   "outputs": [
    {
     "data": {
      "text/plain": [
       "Dict{Symbol, Vector} with 14 entries:\n",
       "  :posmvdt                 => [DateTime(\"2024-04-30T00:00:01.868\"), DateTime(\"2…\n",
       "  :ins_Status_flag         => UInt8[0x01, 0x01, 0x01, 0x01, 0x01, 0x01, 0x01, 0…\n",
       "  :heading                 => Float32[204.8, 204.74, 204.68, 204.65, 204.64, 20…\n",
       "  :checksum                => [\"3A\", \"30\", \"39\", \"1B\", \"3C\", \"34\", \"34\", \"3C\", …\n",
       "  :time                    => [DateTime(\"2024-04-30T00:00:01.840\"), DateTime(\"2…\n",
       "  :pitch_accuracy          => Float32[0.022, 0.022, 0.022, 0.022, 0.022, 0.022,…\n",
       "  :heading_accuracy        => Float32[0.016, 0.016, 0.016, 0.016, 0.016, 0.016,…\n",
       "  :trueheading             => Bool[1, 1, 1, 1, 1, 1, 1, 1, 1, 1  …  1, 1, 1, 1,…\n",
       "  :heave                   => Float32[0.26, 0.15, 0.04, -0.08, -0.21, -0.35, -0…\n",
       "  :gpstime                 => Time[00:00:02.729, 00:00:03.229, 00:00:03.729, 00…\n",
       "  :roll                    => Float32[-1.29, -1.52, -1.7, -1.83, -1.91, -1.9, -…\n",
       "  :pitch                   => Float32[0.58, 0.51, 0.36, 0.14, -0.12, -0.4, -0.6…\n",
       "  :roll_accuracy           => Float32[0.022, 0.022, 0.022, 0.022, 0.022, 0.022,…\n",
       "  :gps_update_quality_flag => UInt8[0x02, 0x02, 0x02, 0x02, 0x02, 0x01, 0x01, 0…"
      ]
     },
     "metadata": {},
     "output_type": "display_data"
    }
   ],
   "source": [
    "Pashr"
   ]
  },
  {
   "cell_type": "markdown",
   "metadata": {},
   "source": [
    "Need to window the data in little sections and sync the time coordinates."
   ]
  },
  {
   "cell_type": "code",
   "execution_count": 67,
   "metadata": {},
   "outputs": [
    {
     "data": {
      "image/png": "[encoded data removed]",
      "text/plain": [
       "Figure(PyObject <Figure size 640x480 with 1 Axes>)"
      ]
     },
     "metadata": {},
     "output_type": "display_data"
    }
   ],
   "source": [
    "# window and sync time series\n",
    "\n",
    "\n",
    "\n",
    "\"posmv and vectornav indices for requested UTC DateTime start and epoch length TimePeriod\"\n",
    "function daylimits(utcdt::DateTime=DateTime(2024,6,1,6,0,0), epoch::Period=Minute(3), leapseconds=18)\n",
    "    post = findfirst( posmvdt .>= utcdt )\n",
    "    poen = findlast(  posmvdt .<= utcdt + epoch )\n",
    "    vnst = findfirst( vndt    .>= utcdt + Second(leapseconds) ) # view +18 leapseconds forward to agree with UTC\n",
    "    vnen = findlast(  vndt    .<= utcdt + Second(leapseconds) + epoch )\n",
    "    post, poen, vnst, vnen\n",
    "end\n",
    "\n",
    "sample_factor = 9.94 #9.933333 # 9.95 not quite 10 = 20 Hz / 2 Hz\n",
    "# Vn actually samples slightly slower than 10x the speed of POSMV\n",
    "# so stepping by 10 Vn gets ahead of alignment with POSMV.\n",
    "# Need to advance one index less (9 rather than 10) every 167 samples\n",
    "\n",
    "# example time series synced by hand in vectornav.ipynb\n",
    "post, poen, vnst, vnen = daylimits(DateTime(2024,6,1,6,10,0), Minute(3)) # June 1 1st day of Vn2\n",
    "# this example window has a lag of ~20 s (`vectornav.ipynb`) \n",
    "# substract 20 s from vndt to match same signal at same time\n",
    "# indices vnst:vnen already shift for the 18 leapseconds;\n",
    "# at this time, need to shift forward 40 indices for the 2 s.\n",
    "vn_offset = 40\n",
    "# indices for Vn that line up with POSMV\n",
    "vv = round.(Integer, range(vn_offset+vnst, step=sample_factor, length=poen-post+1))\n",
    "\n",
    "# plot demonstrates that it's synced\n",
    "clf()\n",
    "subplot(2,1,1)\n",
    "plot(posmvdt[post:poen], Pashr[:pitch][post:poen])\n",
    "plot(posmvdt[post:poen], Vn[:Roll][vv], label=\"VectorNav\")\n",
    "gcf()"
   ]
  },
  {
   "cell_type": "code",
   "execution_count": 68,
   "metadata": {},
   "outputs": [
    {
     "data": {
      "text/plain": [
       "solve_L"
      ]
     },
     "metadata": {},
     "output_type": "display_data"
    }
   ],
   "source": [
    "\"solve for moments L by regression\"\n",
    "solve_L(w, V) = anom(V, dims=2) \\ anom(w, dims=1) \n",
    "#                   3xn               nx1\n",
    "\n",
    "#= Were both axes of the lidar strapped down, \n",
    "# the lidar would be in the ship's pitched and rolled coordinate system.\n",
    "# But we have no w_lidar from the VectorNav for this time.\n",
    "\n",
    "u_ship_in_lidar_frame = RotXY(ϕ, θ) * [0,0, w_ship]\n",
    "w = w_lidar - u_ship_in_lidar_frame[:, 3]\n",
    "solve_L(w, w_angles(θ, ϕ)) # completely strapped-down\n",
    "=#"
   ]
  },
  {
   "cell_type": "markdown",
   "metadata": {},
   "source": [
    "If pitch is strapped down, but roll is stabilized, \n",
    "then set roll $\\phi=0$ to rotation matrices ($\\sin\\phi=0, \\cos\\phi=1$) into the partly stabilized lidar coordinate system.\n",
    "Since the ship is still moving, linear velocities at the lidar are still induced by the nonzero pitch and roll angular rates:\n",
    "    \n",
    "    V = w_angles(θ, 0, fft_derivative(θ)/dt, fft_derivative(ϕ)/dt)"
   ]
  },
  {
   "cell_type": "code",
   "execution_count": 84,
   "metadata": {},
   "outputs": [
    {
     "data": {
      "text/plain": [
       "360-element Vector{Float32}:\n",
       "  0.020618742\n",
       "  0.0\n",
       " -0.045137856\n",
       " -0.10802229\n",
       " -0.15237337\n",
       " -0.14973009\n",
       " -0.079516485\n",
       "  0.03942339\n",
       "  0.19900084\n",
       "  0.35911837\n",
       "  ⋮\n",
       " -0.13349257\n",
       " -0.12588242\n",
       " -0.121164024\n",
       " -0.121164024\n",
       " -0.13048749\n",
       " -0.1449672\n",
       " -0.17212608\n",
       " -0.18722934\n",
       " -0.19578873"
      ]
     },
     "metadata": {},
     "output_type": "display_data"
    }
   ],
   "source": [
    "# for roll corrected but pitch strapped down\n",
    "# this is the case for leg 2 part 2\n",
    "Vl2p2(θ, ϕ) = w_angles(θ, 0, fft_derivative(θ)/dt, fft_derivative(ϕ)/dt)\n",
    "w_ship_in_lidar_frame = [ (RotY(θ[p]) * [0,0, w_ship[p]])[3] for p in post:poen ]"
   ]
  },
  {
   "cell_type": "code",
   "execution_count": 105,
   "metadata": {},
   "outputs": [
    {
     "data": {
      "text/plain": [
       "3-element Vector{Float64}:\n",
       " -46.65243154913796\n",
       "   4.785762931079105\n",
       "  41.86666861805886"
      ]
     },
     "metadata": {},
     "output_type": "display_data"
    }
   ],
   "source": [
    "w = w_lidar[vv] - w_ship_in_lidar_frame\n",
    "V = stack( Vl2p2(θ[post:poen], ϕ[post:poen]) )\n",
    "L = solve_L(w, V)\n",
    "# same as\n",
    "# pd(w) / pd(V)"
   ]
  },
  {
   "cell_type": "code",
   "execution_count": null,
   "metadata": {},
   "outputs": [],
   "source": [
    "# deprecated\n",
    "\n",
    "w0 = Pashr[:heave] # sign?\n",
    "# heave +down for VectorNav\n",
    "# need +down right-handed coordinate system for rotations\n",
    "\n",
    "a = \n",
    "v = [ϕ, θ]\n",
    "# then the heave in the lidar coordinate system is\n",
    "w_lidar = RotXY(v...)*[0, 0, w0 + a*v]\n",
    "\n",
    "\n",
    "\n",
    "# then the heave in the lidar coordinate system is\n",
    "w_lidar = RotY(θ)*( w0 + a*v )"
   ]
  }
 ],
 "metadata": {
  "kernelspec": {
   "display_name": "Julia 1.10.4",
   "language": "julia",
   "name": "julia-1.10"
  },
  "language_info": {
   "file_extension": ".jl",
   "mimetype": "application/julia",
   "name": "julia",
   "version": "1.10.4"
  }
 },
 "nbformat": 4,
 "nbformat_minor": 2
}
