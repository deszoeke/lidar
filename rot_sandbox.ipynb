{
 "cells": [
  {
   "cell_type": "code",
   "execution_count": 1,
   "metadata": {},
   "outputs": [
    {
     "name": "stderr",
     "output_type": "stream",
     "text": [
      "\u001b[32m\u001b[1m  Activating\u001b[22m\u001b[39m project at `~/Projects/ASTRAL/lidar`\n"
     ]
    }
   ],
   "source": [
    "using Revise\n",
    "using Pkg; Pkg.activate(\".\")\n",
    "\n",
    "using Dates\n",
    "using Statistics # limited set of methods included in Julia Base\n",
    "using StatsBase  # extends Statistics with more functions\n",
    "using Rotations\n",
    "# using SignalAlignment\n",
    "using Interpolations\n",
    "using PyPlot\n",
    "using JLD2\n",
    "# using MAT\n",
    "\n",
    "include(\"./readers.jl\")\n",
    "using .ShipPosmv\n",
    "\n",
    "include(\"./read_lidar.jl\")\n",
    "using .read_vecnav: read_vecnav_dict\n",
    "\n",
    "include(\"./timing_lidar.jl\")\n",
    "using .timing_lidar"
   ]
  },
  {
   "cell_type": "code",
   "execution_count": 2,
   "metadata": {},
   "outputs": [
    {
     "data": {
      "text/plain": [
       "3×3 RotXY{Float64} with indices SOneTo(3)×SOneTo(3)(0.174533, 0.0872665):\n",
       "  0.996195   0.0        0.0871557\n",
       "  0.0151344  0.984808  -0.172987\n",
       " -0.0858317  0.173648   0.98106"
      ]
     },
     "metadata": {},
     "output_type": "display_data"
    }
   ],
   "source": [
    "# rotations example\n",
    "\n",
    "# RotXY(roll, pitch) # radians\n",
    "# matrix that rotates around y (pitch), then by x (roll) in radians\n",
    "RotXY(10/180*pi, 5/180*pi)"
   ]
  },
  {
   "cell_type": "markdown",
   "metadata": {},
   "source": [
    "Use `RotXY(ϕ, θ)` when there is no stabilization; i.e., the lidar is strapped down to the deck, as in the first part of EKAMSAT leg 2."
   ]
  },
  {
   "cell_type": "markdown",
   "metadata": {},
   "source": [
    "\n",
    "In the second part of EKAMSAT leg 2, the stabilization was working only for the roll axis.\n",
    "The pitch axis was strapped, so we can synchronize using the pitch angle as in `vectornav.ipynb`.\n",
    "To start, assume the pitch gimbal is strapped level to the ship deck (there might be a small offset angle).\n",
    "If the roll stabilization works well, then the lidar coordinate system is rotated only by the pitch angle about the y axis.\n",
    "Use `RotY(θ)` for this rotation matrix."
   ]
  },
  {
   "cell_type": "markdown",
   "metadata": {},
   "source": [
    "For leg 1 we assume it's fully stabilized, so we can measure the difference between the heave at the lidar and at the POSMV.\n",
    "The heave measured by the POSMV is assumed to be vertical, and the heave at the VectorNav on the lidar, is also vertical when stabilized.\n",
    "In this case, the displacement moments $(L_x, L_y, L_z)$ between the lidar and the POSMV are responsible for the difference in heave vertical velocity at the lidar $w$ compared to the POSMV $w_0$,\n",
    "$$\n",
    "w' = w - w_0 = A\\theta + B\\phi,\\\\\n",
    "A = (L_x^2 + L_z^2)^{1/2},\\\\\n",
    "B = (L_y^2 + L_z^2)^{1/2}\n",
    "$$\n",
    "where $\\theta$ is the pitch and $\\phi$ is the roll. This is a regression problem for ${\\bf a} = [A; B]$, given $w'$ and $v=[\\theta; \\phi]$.\n",
    "\n",
    "$$\n",
    "{\\bf w'} = {\\bf av}\\\\\n",
    "{\\bf a} = {\\bf w'}{\\bf v}^{-1} = {\\bf v}\\backslash {\\bf w'}.\n",
    "$$"
   ]
  },
  {
   "cell_type": "markdown",
   "metadata": {},
   "source": [
    "The rotations and angular rates are each in different coordinate systems. \n",
    "It is convenient to add velocity vectors in the pitched (but not rolled) coordinate system, denoted by a prime ($'$).\n",
    "The lidar is in pitched and rolled coordinate system denoted by double-prime ($''$).\n",
    "The velocity vector in the pitched coordinate is\n",
    "$$\n",
    "{\\bf u}' =  {\\bf u}_p' + {\\bf u}_r' + {\\bf w}'_0,\\\\\n",
    "{\\bf w}'_0 = {\\bf R}_\\theta{\\bf w}_0 = {\\bf R}_\\theta(0,0,w_0),\\\\\n",
    "{\\bf u}_p' = {\\bf R}_\\theta {\\bf u}_p = {\\bf R}_\\theta\\dot{\\theta}(-L_z,0,L_x),\\\\\n",
    "{\\bf u}_r' = \\dot\\phi(0, L_z,-L_y).\n",
    "$$\n",
    "In the lidar coordinate system,\n",
    "$$\n",
    "{\\bf u}'' = {\\bf R}_\\phi{\\bf u}'.\n",
    "$$\n",
    "When strapped down, the VectorNav measures one component of ${\\bf u}''$, nominally the component in the upward $z$-direction.\n"
   ]
  },
  {
   "cell_type": "markdown",
   "metadata": {},
   "source": [
    "In leg 2 part 2 the pitch stabilization gimbal failed\n",
    "and was strapped down, but the roll stabilization continued. \n",
    "For this time, we synchronize the POSMV and VectorNav \n",
    "time using the unstabilized pitch angle, and then regress for coefficients\n",
    "that explain the observed platform velocity in the lidar frame from\n",
    "rotations about the POSMV.\n"
   ]
  },
  {
   "cell_type": "markdown",
   "metadata": {},
   "source": [
    "### Procedure\n",
    "1. Read POSMV and VectorNav data.\n",
    "2. Synchronize time in 2-10 min windows.\n",
    "    - using POSMV pitch and VectorNav roll for leg 2, part 2.\n",
    "3. Regress pitch and roll angles on heave to get moments $L_x, Ly, Lz$."
   ]
  },
  {
   "cell_type": "code",
   "execution_count": 3,
   "metadata": {},
   "outputs": [
    {
     "data": {
      "text/plain": [
       "w_angles (generic function with 3 methods)"
      ]
     },
     "metadata": {},
     "output_type": "display_data"
    }
   ],
   "source": [
    "# differentiate POSMV angles to get angular rates\n",
    "\n",
    "\"derivative by FFT, assuming sampling rate of 1.\"\n",
    "function fft_derivative(f::AbstractVector{Real})\n",
    "    N = length(f) \n",
    "    k = fftfreq( N ) * 2π  # compute the angular frequencies (wavenumbers)\n",
    "    # for even N exclude Nyquist frequency according to SG Johnson\n",
    "    # https://math.mit.edu/~stevenj/fft-deriv.pdf\n",
    "    if iseven(N)\n",
    "        k[N/2] = 0\n",
    "    end\n",
    "    F_deriv = 1im * k .* fft(f)    # multiply FFT by i*k in the frequency domain\n",
    "    return real( ifft(F_deriv) )     # inverse FFT to get the derivative in time domain\n",
    "end\n",
    "\n",
    "raw\"the angle- and angular-rate coefficient vector V of L = V\\w\"\n",
    "function w_angles(θ, ϕ, θrate=fft_derivative(θ)/dt, ϕrate=fft_derivative(ϕ)/dt)\n",
    "    v1 = @. θrate*cos(ϕ)*cos(θ)\n",
    "    v2 = @. ϕrate*cos(ϕ)\n",
    "    v3 = @. ϕrate*sin(ϕ) + θrate*cos(ϕ)*sin(θ)\n",
    "    return [v1, v2, v3] # vector\n",
    "end"
   ]
  },
  {
   "cell_type": "code",
   "execution_count": 6,
   "metadata": {},
   "outputs": [
    {
     "data": {
      "text/plain": [
       "6898538-element Vector{Float32}:\n",
       "  0.58\n",
       "  0.51\n",
       "  0.36\n",
       "  0.14\n",
       " -0.12\n",
       " -0.4\n",
       " -0.62\n",
       " -0.68\n",
       " -0.53\n",
       " -0.14\n",
       "  ⋮\n",
       "  0.15\n",
       "  0.45\n",
       "  0.77\n",
       "  0.97\n",
       "  0.95\n",
       "  0.76\n",
       "  0.51\n",
       "  0.28\n",
       "  0.12"
      ]
     },
     "metadata": {},
     "output_type": "display_data"
    }
   ],
   "source": [
    "# read data\n",
    "Vn = read_vecnav_dict()\n",
    "Pashr = Dict(Symbol(key) => value for (key, value) in load(\"./data/table/ASTraL_POSMV.jld2\"))\n",
    "\n",
    "ϕ = Pashr[:roll]\n",
    "θ = Pashr[:pitch]\n",
    "w_ship = Pashr[:heave]\n",
    "w_lidar = Vn[:VelNED2] # ? [:heave] "
   ]
  },
  {
   "cell_type": "code",
   "execution_count": 9,
   "metadata": {},
   "outputs": [
    {
     "data": {
      "text/plain": [
       "Dict{Symbol, Vector} with 13 entries:\n",
       "  :ins_Status_flag         => UInt8[0x01, 0x01, 0x01, 0x01, 0x01, 0x01, 0x01, 0…\n",
       "  :heading                 => Float32[204.8, 204.74, 204.68, 204.65, 204.64, 20…\n",
       "  :checksum                => [\"3A\", \"30\", \"39\", \"1B\", \"3C\", \"34\", \"34\", \"3C\", …\n",
       "  :time                    => [DateTime(\"2024-04-30T00:00:01.840\"), DateTime(\"2…\n",
       "  :pitch_accuracy          => Float32[0.022, 0.022, 0.022, 0.022, 0.022, 0.022,…\n",
       "  :heading_accuracy        => Float32[0.016, 0.016, 0.016, 0.016, 0.016, 0.016,…\n",
       "  :trueheading             => Bool[1, 1, 1, 1, 1, 1, 1, 1, 1, 1  …  1, 1, 1, 1,…\n",
       "  :heave                   => Float32[0.26, 0.15, 0.04, -0.08, -0.21, -0.35, -0…\n",
       "  :gpstime                 => Time[00:00:02.729, 00:00:03.229, 00:00:03.729, 00…\n",
       "  :roll                    => Float32[-1.29, -1.52, -1.7, -1.83, -1.91, -1.9, -…\n",
       "  :pitch                   => Float32[0.58, 0.51, 0.36, 0.14, -0.12, -0.4, -0.6…\n",
       "  :roll_accuracy           => Float32[0.022, 0.022, 0.022, 0.022, 0.022, 0.022,…\n",
       "  :gps_update_quality_flag => UInt8[0x02, 0x02, 0x02, 0x02, 0x02, 0x01, 0x01, 0…"
      ]
     },
     "metadata": {},
     "output_type": "display_data"
    }
   ],
   "source": [
    "Pashr"
   ]
  },
  {
   "cell_type": "markdown",
   "metadata": {},
   "source": [
    "Need to window the data in little sections and sync the time coordinates."
   ]
  },
  {
   "cell_type": "code",
   "execution_count": null,
   "metadata": {},
   "outputs": [],
   "source": [
    "posmvdt = \n",
    "vndt = Vn[:vndt]\n",
    "\n",
    "\"posmv and vectornav indices for requested UTC DateTime start and epoch length TimePeriod\"\n",
    "function daylimits(utcdt::DateTime=DateTime(2024,6,1,6,0,0), epoch::Period=Minute(3))\n",
    "    post = findfirst( posmvdt .>= utcdt )\n",
    "    poen = findlast(  posmvdt .<= utcdt + epoch )\n",
    "    vnst = findfirst( vndt    .>= utcdt + Second(18) ) # view +18 leapseconds forward to agree with UTC\n",
    "    vnen = findlast(  vndt    .<= utcdt + Second(18) + epoch )\n",
    "    post, poen, vnst, vnen\n",
    "end\n",
    "\n",
    "post, poen, vnst, vnen = daylimits(DateTime(2024,6,1,6,10,0), Minute(3)) # June 1 1st day of Vn2\n",
    "# this example window has a lag of ~20 s (`vectornav.ipynb`), i.e. advance the index of the VectorNav by 400\n"
   ]
  },
  {
   "cell_type": "code",
   "execution_count": 7,
   "metadata": {},
   "outputs": [
    {
     "data": {
      "text/plain": [
       "solve_L"
      ]
     },
     "metadata": {},
     "output_type": "display_data"
    }
   ],
   "source": [
    "\"solve for moments by regression\"\n",
    "solve_L(w, V) = V \\ w \n",
    "\n",
    "#= Were both axes of the lidar strapped down, \n",
    "# the lidar would be in the ship's pitched and rolled coordinate system.\n",
    "# But we have no w_lidar from the VectorNav for this time.\n",
    "\n",
    "u_ship_in_lidar_frame = RotXY(ϕ, θ) * [0,0, w_ship]\n",
    "w = w_lidar - u_ship_in_lidar_frame[:, 3]\n",
    "solve_L(w, w_angles(θ, ϕ)) # completely strapped-down\n",
    "=#"
   ]
  },
  {
   "cell_type": "markdown",
   "metadata": {},
   "source": [
    "If pitch is strapped down, but roll is stabilized, \n",
    "then set roll $\\phi=0$ to rotation matrices ($\\sin\\phi=0, \\cos\\phi=1$) into the partly stabilized lidar coordinate system.\n",
    "Since the ship is still moving, linear velocities at the lidar are still induced by the nonzero pitch and roll angular rates:\n",
    "    \n",
    "    V = w_angles(θ, 0, fft_derivative(θ)/dt, fft_derivative(ϕ)/dt)"
   ]
  },
  {
   "cell_type": "code",
   "execution_count": null,
   "metadata": {},
   "outputs": [],
   "source": [
    "# for roll corrected but pitch strapped down\n",
    "V = w_angles(θ, 0, fft_derivative(θ)/dt, fft_derivative(ϕ)/dt)\n",
    "u_ship_in_lidar_frame = RotY(θ) * [0,0, w_ship]\n",
    "w = w_lidar - u_ship_in_lidar_frame[:, 3]\n",
    "L = V \\ w"
   ]
  },
  {
   "cell_type": "code",
   "execution_count": null,
   "metadata": {},
   "outputs": [],
   "source": [
    "# deprecated\n",
    "\n",
    "w0 = Pashr[:heave] # sign?\n",
    "# heave +down for VectorNav\n",
    "# need +down right-handed coordinate system for rotations\n",
    "\n",
    "a = \n",
    "v = [ϕ, θ]\n",
    "# then the heave in the lidar coordinate system is\n",
    "w_lidar = RotXY(v...)*[0, 0, w0 + a*v]\n",
    "\n",
    "\n",
    "\n",
    "# then the heave in the lidar coordinate system is\n",
    "w_lidar = RotY(θ)*( w0 + a*v )"
   ]
  }
 ],
 "metadata": {
  "kernelspec": {
   "display_name": "Julia 1.10.4",
   "language": "julia",
   "name": "julia-1.10"
  },
  "language_info": {
   "file_extension": ".jl",
   "mimetype": "application/julia",
   "name": "julia",
   "version": "1.10.4"
  }
 },
 "nbformat": 4,
 "nbformat_minor": 2
}
