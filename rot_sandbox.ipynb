{
 "cells": [
  {
   "cell_type": "code",
   "execution_count": 1,
   "metadata": {},
   "outputs": [
    {
     "name": "stderr",
     "output_type": "stream",
     "text": [
      "\u001b[32m\u001b[1m  Activating\u001b[22m\u001b[39m project at `~/Projects/ASTRAL/lidar`\n"
     ]
    }
   ],
   "source": [
    "using Revise\n",
    "using Pkg; Pkg.activate(\".\")\n",
    "\n",
    "using Dates\n",
    "using Statistics # limited set of methods included in Julia Base\n",
    "using StatsBase  # extends Statistics with more functions\n",
    "using Rotations\n",
    "# using SignalAlignment\n",
    "using Interpolations\n",
    "using PyPlot\n",
    "using JLD2\n",
    "# using MAT\n",
    "\n",
    "include(\"./readers.jl\")\n",
    "using .ShipPosmv\n",
    "\n",
    "include(\"./read_lidar.jl\")\n",
    "using .read_vecnav: read_vecnav_dict\n",
    "\n",
    "include(\"./timing_lidar.jl\")\n",
    "using .timing_lidar"
   ]
  },
  {
   "cell_type": "code",
   "execution_count": 3,
   "metadata": {},
   "outputs": [
    {
     "data": {
      "text/plain": [
       "3×3 RotXY{Float64} with indices SOneTo(3)×SOneTo(3)(0.174533, 0.0872665):\n",
       "  0.996195   0.0        0.0871557\n",
       "  0.0151344  0.984808  -0.172987\n",
       " -0.0858317  0.173648   0.98106"
      ]
     },
     "execution_count": 3,
     "metadata": {},
     "output_type": "execute_result"
    }
   ],
   "source": [
    "# rotations example\n",
    "\n",
    "# RotXY(roll, pitch) # radians\n",
    "# matrix that rotates around y (pitch), then by x (roll) in radians\n",
    "RotXY(10/180*pi, 5/180*pi)"
   ]
  },
  {
   "cell_type": "markdown",
   "metadata": {},
   "source": [
    "Use `RotXY(ϕ, θ)` when there is no stabilization; i.e., the lidar is strapped down to the deck, as in the first part of EKAMSAT leg 2."
   ]
  },
  {
   "cell_type": "markdown",
   "metadata": {},
   "source": [
    "\n",
    "In the second part of EKAMSAT leg 2, the stabilization was working only for the roll axis.\n",
    "The pitch axis was strapped, so we can synchronize using the pitch angle as in `vectornav.ipynb`.\n",
    "To start, assume the pitch gimbal is strapped level to the ship deck (there might be a small offset angle).\n",
    "If the roll stabilization works well, then the lidar coordinate system is rotated only by the pitch angle about the y axis.\n",
    "Use `RotY(θ)` for this rotation matrix."
   ]
  },
  {
   "cell_type": "markdown",
   "metadata": {},
   "source": [
    "For leg 1 we assume it's fully stabilized, so we can measure the difference between the heave at the lidar and at the POSMV.\n",
    "The heave measured by the POSMV is assumed to be vertical, and the heave at the VectorNav on the lidar, is also vertical when stabilized.\n",
    "In this case, the displacement moments $(L_x, L_y, L_z)$ between the lidar and the POSMV are responsible for the difference in heave vertical velocity at the lidar $w$ compared to the POSMV $w_0$,\n",
    "$$\n",
    "w' = w - w_0 = A\\theta + B\\phi,\\\\\n",
    "A = (L_x^2 + L_z^2)^{1/2},\\\\\n",
    "B = (L_y^2 + L_z^2)^{1/2}\n",
    "$$\n",
    "where $\\theta$ is the pitch and $\\phi$ is the roll. This is a regression problem for ${\\bf a} = [A; B]$, given $w'$ and $v=[\\theta; \\phi]$.\n",
    "\n",
    "$$\n",
    "{\\bf w'} = {\\bf av}\\\\\n",
    "{\\bf a} = {\\bf w'}{\\bf v}^{-1} = {\\bf v}\\backslash {\\bf w'}.\n",
    "$$"
   ]
  },
  {
   "cell_type": "markdown",
   "metadata": {},
   "source": [
    "The rotations and angular rates are each in different coordinate systems. \n",
    "It is convenient to add velocity vectors in the pitched (but not rolled) coordinate system, denoted by a prime ($'$).\n",
    "The lidar is in pitched and rolled coordinate system denoted by double-prime ($''$).\n",
    "The velocity vector in the pitched coordinate is\n",
    "$$\n",
    "{\\bf u}' =  {\\bf u}_p' + {\\bf u}_r' + {\\bf w}'_0,\\\\\n",
    "{\\bf w}'_0 = {\\bf R}_\\theta{\\bf w}_0 = {\\bf R}_\\theta(0,0,w_0),\\\\\n",
    "{\\bf u}_p' = {\\bf R}_\\theta {\\bf u}_p = {\\bf R}_\\theta\\dot{\\theta}(-L_z,0,L_x),\\\\\n",
    "{\\bf u}_r' = \\dot\\phi(0, L_z,-L_y).\n",
    "$$\n",
    "In the lidar coordinate system,\n",
    "$$\n",
    "{\\bf u}'' = {\\bf R}_\\phi{\\bf u}'.\n",
    "$$\n",
    "When strapped down, the VectorNav measures one component of ${\\bf u}''$, nominally the component in the upward $z$-direction.\n"
   ]
  },
  {
   "cell_type": "markdown",
   "metadata": {},
   "source": [
    "In leg 2 part 2 the pitch stabilization gimbal failed\n",
    "and was strapped down, but the roll stabilization continued. \n",
    "For this time, we synchronize the POSMV and VectorNav \n",
    "time using the unstabilized pitch angle, and then regress for coefficients\n",
    "that explain the observed platform velocity in the lidar frame from\n",
    "rotations about the POSMV.\n"
   ]
  },
  {
   "cell_type": "markdown",
   "metadata": {},
   "source": [
    "### Procedure\n",
    "1. Read POSMV and VectorNav data.\n",
    "2. Synchronize time in 2-10 min windows.\n",
    "    - using POSMV pitch and VectorNav roll for leg 2, part 2.\n",
    "3. Regress pitch and roll angles on heave to get moments $L_x, Ly, Lz$."
   ]
  },
  {
   "cell_type": "code",
   "execution_count": null,
   "metadata": {},
   "outputs": [],
   "source": [
    "# differentiate POSMV angles to get angular rates\n",
    "\n",
    "\"derivative by FFT, assuming sampling rate of 1.\"\n",
    "function fft_derivative(f::AbstractVector{Real})\n",
    "    N = length(f) \n",
    "    k = fftfreq( N ) * 2π  # compute the angular frequencies (wavenumbers)\n",
    "    # for even N exclude Nyquist frequency according to SG Johnson\n",
    "    # https://math.mit.edu/~stevenj/fft-deriv.pdf\n",
    "    if iseven(N)\n",
    "        k[N/2] = 0\n",
    "    end\n",
    "    F_deriv = 1im * k .* fft(f)    # multiply FFT by i*k in the frequency domain\n",
    "    return real( ifft(F_deriv) )     # inverse FFT to get the derivative in time domain\n",
    "end\n",
    "\n",
    "\"the angle- and angular-rate dependent coefficient vector\"\n",
    "function w_angles(θ, ϕ, θrate=fft_derivative(θ)/dt, ϕrate=fft_derivative(ϕ)/dt)\n",
    "    \n",
    "    return [blah, blah, blah] # vector\n",
    "end"
   ]
  },
  {
   "cell_type": "code",
   "execution_count": 1,
   "metadata": {},
   "outputs": [],
   "source": [
    "# read data\n",
    "Vn = read_vecnav_dict()\n",
    "Pashr = Dict(Symbol(key) => value for (key, value) in load(\"./data/table/ASTraL_POSMV.jld2\"))"
   ]
  },
  {
   "cell_type": "code",
   "execution_count": null,
   "metadata": {},
   "outputs": [],
   "source": []
  },
  {
   "cell_type": "code",
   "execution_count": null,
   "metadata": {},
   "outputs": [],
   "source": [
    "# deprecated\n",
    "\n",
    "w0 = Pashr[:heave] # sign?\n",
    "# heave +down for VectorNav\n",
    "# need +down right-handed coordinate system for rotations\n",
    "\n",
    "a = \n",
    "v = [ϕ, θ]\n",
    "# then the heave in the lidar coordinate system is\n",
    "w_lidar = RotXY(v...)*[0, 0, w0 + a*v]\n",
    "\n",
    "\n",
    "\n",
    "# then the heave in the lidar coordinate system is\n",
    "w_lidar = RotY(θ)*( w0 + a*v )"
   ]
  }
 ],
 "metadata": {
  "kernelspec": {
   "display_name": "Julia 1.10.4",
   "language": "julia",
   "name": "julia-1.10"
  },
  "language_info": {
   "file_extension": ".jl",
   "mimetype": "application/julia",
   "name": "julia",
   "version": "1.10.4"
  }
 },
 "nbformat": 4,
 "nbformat_minor": 2
}
