{
 "cells": [
  {
   "cell_type": "code",
   "execution_count": 1,
   "metadata": {},
   "outputs": [
    {
     "name": "stderr",
     "output_type": "stream",
     "text": [
      "\u001b[32m\u001b[1m  Activating\u001b[22m\u001b[39m project at `~/Projects/ASTRAL/lidar`\n"
     ]
    }
   ],
   "source": [
    "using Revise\n",
    "using Pkg; Pkg.activate(\".\")\n",
    "\n",
    "using Dates\n",
    "using Statistics # limited set of methods included in Julia Base\n",
    "using StatsBase  # extends Statistics with more functions\n",
    "using Rotations\n",
    "# using SignalAlignment\n",
    "using Interpolations\n",
    "using PyPlot\n",
    "using JLD2\n",
    "# using MAT"
   ]
  },
  {
   "cell_type": "code",
   "execution_count": 2,
   "metadata": {},
   "outputs": [
    {
     "data": {
      "text/plain": [
       "3×3 RotXY{Float64} with indices SOneTo(3)×SOneTo(3)(0.0872665, 0.174533):\n",
       "  0.984808   0.0         0.173648\n",
       "  0.0151344  0.996195   -0.0858317\n",
       " -0.172987   0.0871557   0.98106"
      ]
     },
     "metadata": {},
     "output_type": "display_data"
    }
   ],
   "source": [
    "# rotations example\n",
    "\n",
    "# RotXY(roll, pitch) # radians\n",
    "# matrix that rotates around y (pitch), then by x (roll) in radians\n",
    "RotXY(10/180*pi, 5/180*pi)"
   ]
  },
  {
   "cell_type": "markdown",
   "metadata": {},
   "source": [
    "For leg 1 we assume it's fully stabilized, so we can measure the difference between the heave at the lidar and at the POSMV."
   ]
  },
  {
   "cell_type": "markdown",
   "metadata": {},
   "source": []
  }
 ],
 "metadata": {
  "kernelspec": {
   "display_name": "Julia 1.10.4",
   "language": "julia",
   "name": "julia-1.10"
  },
  "language_info": {
   "file_extension": ".jl",
   "mimetype": "application/julia",
   "name": "julia",
   "version": "1.10.4"
  }
 },
 "nbformat": 4,
 "nbformat_minor": 2
}
