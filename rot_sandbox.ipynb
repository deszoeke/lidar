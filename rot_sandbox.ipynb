{
 "cells": [
  {
   "cell_type": "code",
   "execution_count": 1,
   "metadata": {},
   "outputs": [
    {
     "name": "stderr",
     "output_type": "stream",
     "text": [
      "\u001b[32m\u001b[1m  Activating\u001b[22m\u001b[39m project at `~/Projects/ASTRAL/lidar`\n"
     ]
    }
   ],
   "source": [
    "using Revise\n",
    "using Pkg; Pkg.activate(\".\")\n",
    "\n",
    "using Dates\n",
    "using Statistics # limited set of methods included in Julia Base\n",
    "using StatsBase  # extends Statistics with more functions\n",
    "using Rotations\n",
    "using FFTW\n",
    "# using SignalAlignment\n",
    "using Interpolations\n",
    "using PyPlot\n",
    "using JLD2\n",
    "# using MAT\n",
    "\n",
    "include(\"./readers.jl\")\n",
    "using .ShipPosmv\n",
    "\n",
    "include(\"./read_lidar.jl\")\n",
    "using .read_vecnav: read_vecnav_dict\n",
    "\n",
    "include(\"./timing_lidar.jl\")\n",
    "using .timing_lidar"
   ]
  },
  {
   "cell_type": "code",
   "execution_count": 2,
   "metadata": {},
   "outputs": [
    {
     "data": {
      "text/plain": [
       "plotf (generic function with 1 method)"
      ]
     },
     "execution_count": 2,
     "metadata": {},
     "output_type": "execute_result"
    }
   ],
   "source": [
    "# helper functions\n",
    "pd = permutedims\n",
    "m2n(x) = ismissing(x) ? NaN : x\n",
    "\n",
    "anom(x; dims=1) = x .- mean(x; dims=dims)\n",
    "\n",
    "# functional wrapper for PyPlot plot\n",
    "plotf(f::Function, x, va...) = plot(x, f.(x), va...)"
   ]
  },
  {
   "cell_type": "code",
   "execution_count": 3,
   "metadata": {},
   "outputs": [
    {
     "data": {
      "text/plain": [
       "3×3 RotXY{Float64} with indices SOneTo(3)×SOneTo(3)(0.174533, 0.0872665):\n",
       "  0.996195   0.0        0.0871557\n",
       "  0.0151344  0.984808  -0.172987\n",
       " -0.0858317  0.173648   0.98106"
      ]
     },
     "execution_count": 3,
     "metadata": {},
     "output_type": "execute_result"
    }
   ],
   "source": [
    "# rotations example\n",
    "\n",
    "# RotXY(roll, pitch) # radians\n",
    "# matrix that rotates around y (pitch), then by x (roll) in radians\n",
    "RotXY(10/180*pi, 5/180*pi)"
   ]
  },
  {
   "cell_type": "markdown",
   "metadata": {},
   "source": [
    "Use `RotXY(ϕ, θ)` when there is no stabilization; i.e., the lidar is strapped down to the deck, as in the first part of EKAMSAT leg 2."
   ]
  },
  {
   "cell_type": "markdown",
   "metadata": {},
   "source": [
    "\n",
    "In the second part of EKAMSAT leg 2, the stabilization was working only for the roll axis.\n",
    "The pitch axis was strapped, so we can synchronize using the pitch angle as in `vectornav.ipynb`.\n",
    "To start, assume the pitch gimbal is strapped level to the ship deck (there might be a small offset angle).\n",
    "If the roll stabilization works well, then the lidar coordinate system is rotated only by the pitch angle about the y axis.\n",
    "Use `RotY(θ)` for this rotation matrix."
   ]
  },
  {
   "cell_type": "markdown",
   "metadata": {},
   "source": [
    "For leg 1 we assume it's fully stabilized, so we can measure the difference between the heave at the lidar and at the POSMV.\n",
    "The heave measured by the POSMV is assumed to be vertical, and the heave at the VectorNav on the lidar, is also vertical when stabilized.\n",
    "In this case, the displacement moments $(L_x, L_y, L_z)$ between the lidar and the POSMV are responsible for the difference in heave vertical velocity at the lidar $w$ compared to the POSMV $w_0$,\n",
    "$$\n",
    "w' = w - w_0 = A\\theta + B\\phi,\\\\\n",
    "A = (L_x^2 + L_z^2)^{1/2},\\\\\n",
    "B = (L_y^2 + L_z^2)^{1/2}\n",
    "$$\n",
    "where $\\theta$ is the pitch and $\\phi$ is the roll. This is a regression problem for ${\\bf a} = [A; B]$, given $w'$ and $v=[\\theta; \\phi]$.\n",
    "\n",
    "$$\n",
    "{\\bf w'} = {\\bf av}\\\\\n",
    "{\\bf a} = {\\bf w'}{\\bf v}^{-1} = {\\bf v}\\backslash {\\bf w'}.\n",
    "$$"
   ]
  },
  {
   "cell_type": "markdown",
   "metadata": {},
   "source": [
    "The rotations and angular rates are each in different coordinate systems. \n",
    "It is convenient to add velocity vectors in the pitched (but not rolled) coordinate system, denoted by a prime ($'$).\n",
    "The lidar is in pitched and rolled coordinate system denoted by double-prime ($''$).\n",
    "The velocity vector in the pitched coordinate is\n",
    "$$\n",
    "{\\bf u}' =  {\\bf u}_p' + {\\bf u}_r' + {\\bf w}'_0,\\\\\n",
    "{\\bf w}'_0 = {\\bf R}_\\theta{\\bf w}_0 = {\\bf R}_\\theta(0,0,w_0),\\\\\n",
    "{\\bf u}_p' = {\\bf R}_\\theta {\\bf u}_p = {\\bf R}_\\theta\\dot{\\theta}(-L_z,0,L_x),\\\\\n",
    "{\\bf u}_r' = \\dot\\phi(0, L_z,-L_y).\n",
    "$$\n",
    "In the lidar coordinate system,\n",
    "$$\n",
    "{\\bf u}'' = {\\bf R}_\\phi{\\bf u}'.\n",
    "$$\n",
    "When strapped down, the VectorNav measures one component of ${\\bf u}''$, nominally the component in the upward $z$-direction.\n"
   ]
  },
  {
   "cell_type": "markdown",
   "metadata": {},
   "source": [
    "In leg 2 part 2 the pitch stabilization gimbal failed\n",
    "and was strapped down, but the roll stabilization continued. \n",
    "For this time, we synchronize the POSMV and VectorNav \n",
    "time using the unstabilized pitch angle, and then regress for coefficients\n",
    "that explain the observed platform velocity in the lidar frame from\n",
    "rotations about the POSMV.\n"
   ]
  },
  {
   "cell_type": "markdown",
   "metadata": {},
   "source": [
    "### Procedure\n",
    "1. Read POSMV and VectorNav data.\n",
    "2. Synchronize time in 2-10 min windows.\n",
    "    - using POSMV pitch and VectorNav roll for leg 2, part 2.\n",
    "3. Regress pitch and roll angles on heave to get moments $L_x, Ly, Lz$."
   ]
  },
  {
   "cell_type": "code",
   "execution_count": 57,
   "metadata": {},
   "outputs": [
    {
     "data": {
      "text/plain": [
       "solve_L"
      ]
     },
     "execution_count": 57,
     "metadata": {},
     "output_type": "execute_result"
    }
   ],
   "source": [
    "# differentiate POSMV angles to get angular rates\n",
    "# and heave to get vertical velocity\n",
    "dt = 0.5 # sampling interval\n",
    "\n",
    "\"derivative by FFT, assuming sampling rate of 1.\"\n",
    "function fft_derivative(f::AbstractVector{T}) where T <: Real\n",
    "    N = length(f) \n",
    "    k = collect(fftfreq( N )) * 2π  # angular frequencies (wavenumbers)\n",
    "    # for even N exclude Nyquist frequency according to SG Johnson\n",
    "    # https://math.mit.edu/~stevenj/fft-deriv.pdf\n",
    "    if iseven(N)\n",
    "        k[Integer(N/2)] = 0\n",
    "    end\n",
    "    F_deriv = 1im * k .* fft(f)    # multiply FFT by i*k in the frequency domain\n",
    "    return real( ifft(F_deriv) )     # inverse FFT to get the derivative in time domain\n",
    "end# taper the ends with an n-point quarter sine^2 wave taper\n",
    "\n",
    "\"taper for conditioning the ends of time series\"\n",
    "taper(n) = @. sin( π/2 * (0:n-1)/n )^2\n",
    "f_taper(f,n) = [f[1:n].*taper(n); f[n+1:end-n]; f[end-n+1:end].*reverse(taper(n))]\n",
    "\"tapering method\"\n",
    "fft_derivative(f; taper=8) = fft_derivative(f_taper(f,taper))\n",
    "\n",
    "#= deprecated\n",
    "# raw\"the angle- and angular-rate coefficient vector V of L = V\\w\"\n",
    "# function V_angles(θ, ϕ, θrate=fft_derivative(θ)/dt, ϕrate=fft_derivative(ϕ)/dt)\n",
    "#     v1 = @. θrate*cos(ϕ)*cos(θ)\n",
    "#     v2 = @. ϕrate*cos(ϕ)\n",
    "#     v3 = @. ϕrate*sin(ϕ) + θrate*cos(ϕ)*sin(θ)\n",
    "#     return [v1, v2, v3] # vector\n",
    "# end\n",
    "\n",
    "# BUT heave w_lidar at the lidar is measured in the vertical coordinate,\n",
    "# NOT a tilted coordinate, so ϕ,θ should be taken to be 0, but rates may be nonzero.\n",
    "\n",
    "# redo: cosϕ=cosθ=1, sinϕ=sinθ=0\n",
    "raw\"the angle- and angular-rate coefficient vector V of L = V\\w\"\n",
    "V_vert_angles(θrate, ϕrate) = [θrate, ϕrate, 0] # 3-vector\n",
    "\n",
    "# L = [θrate, ϕrate, 0] \\ (w_lidar - w_ship)\n",
    "=#\n",
    "\n",
    "function angle_vec(θ, ϕ, θrate, ϕrate)\n",
    "    ctcp = cos(θ)*cos(ϕ)\n",
    "    [-θrate*ctcp, ϕrate*ctcp, θrate*sin(θ)-ϕrate*cos(θ)*sin(θ)]\n",
    "end\n",
    "\n",
    "\"solve for moments L by regression\"\n",
    "solve_L(w, M) = M \\ anom(w, dims=1) \n",
    "#              3xn               nx1\n",
    "\n",
    "# Use ABSOLUTE angles for rotation matrices\n",
    "# Rates are derivatives so probably already don't have mean offsets.\n",
    "# Maybe use anomalies for velocities"
   ]
  },
  {
   "cell_type": "code",
   "execution_count": 49,
   "metadata": {},
   "outputs": [
    {
     "data": {
      "text/plain": [
       "42870733-element Vector{DateTime}:\n",
       " 2024-04-29T05:25:42.128\n",
       " 2024-04-29T05:25:42.178\n",
       " 2024-04-29T05:25:42.228\n",
       " 2024-04-29T05:25:42.278\n",
       " 2024-04-29T05:25:42.328\n",
       " 2024-04-29T05:25:42.378\n",
       " 2024-04-29T05:25:42.428\n",
       " 2024-04-29T05:25:42.478\n",
       " 2024-04-29T05:25:42.528\n",
       " 2024-04-29T05:25:42.578\n",
       " 2024-04-29T05:25:42.628\n",
       " 2024-04-29T05:25:42.678\n",
       " 2024-04-29T05:25:42.728\n",
       " ⋮\n",
       " 2024-06-10T23:25:22.222\n",
       " 2024-06-10T23:25:22.272\n",
       " 2024-06-10T23:25:22.322\n",
       " 2024-06-10T23:25:22.372\n",
       " 2024-06-10T23:25:22.422\n",
       " 2024-06-10T23:25:22.472\n",
       " 2024-06-10T23:25:22.522\n",
       " 2024-06-10T23:25:22.572\n",
       " 2024-06-10T23:25:22.622\n",
       " 2024-06-10T23:25:22.672\n",
       " 2024-06-10T23:25:22.722\n",
       " 2024-06-10T23:25:22.772"
      ]
     },
     "execution_count": 49,
     "metadata": {},
     "output_type": "execute_result"
    }
   ],
   "source": [
    "# read data\n",
    "\n",
    "# Vn = read_vecnav_dict()\n",
    "# Pashr = Dict(Symbol(key) => value for (key, value) in load(\"./data/table/ASTraL_POSMV.jld2\"))\n",
    "\n",
    "ϕ = Pashr[:roll]  * pi/180 # -> radians\n",
    "θ = Pashr[:pitch] * pi/180\n",
    "# heave_ship = Pashr[:heave] # positive down DISPLACEMENT\n",
    "w_lidar = Vn[:VelNED2] # positive down\n",
    "\n",
    "# time coordinates\n",
    "posmvdt = Pashr[:posmvdt] # UTC convention\n",
    "vndt = Vn[:vndt]          # GPS convention"
   ]
  },
  {
   "cell_type": "code",
   "execution_count": 53,
   "metadata": {},
   "outputs": [
    {
     "data": {
      "text/plain": [
       "360-element Vector{Float64}:\n",
       "  0.1317292608181953\n",
       "  0.29690766342654523\n",
       "  0.364653400461046\n",
       "  0.3458120554331129\n",
       "  0.22598238471371832\n",
       "  0.028736186254908536\n",
       " -0.2442480263671981\n",
       " -0.490668057656697\n",
       " -0.6961274261555721\n",
       " -0.7094779625570624\n",
       " -0.6777953083614061\n",
       " -0.4655364247817554\n",
       " -0.20202649355045915\n",
       "  ⋮\n",
       "  0.4804013041461536\n",
       "  0.25972338106247217\n",
       "  0.15121537283683284\n",
       "  0.012789833083936521\n",
       " -0.02215435788685553\n",
       " -0.01722574131716403\n",
       "  0.04675034244892472\n",
       "  0.09019957976195798\n",
       "  0.18043532079989605\n",
       "  0.18854917239086966\n",
       "  0.16426445400884115\n",
       "  0.07236884549030254"
      ]
     },
     "execution_count": 53,
     "metadata": {},
     "output_type": "execute_result"
    }
   ],
   "source": [
    "# derivatives\n",
    "θrate=fft_derivative(θ, taper=10)/dt\n",
    "ϕrate=fft_derivative(ϕ, taper=10)/dt\n",
    "w_posmv = fft_derivative(Pashr[:heave], taper=10)/dt # m/s"
   ]
  },
  {
   "cell_type": "code",
   "execution_count": 23,
   "metadata": {},
   "outputs": [
    {
     "data": {
      "text/plain": [
       "Dict{Symbol, Vector} with 14 entries:\n",
       "  :posmvdt                 => [DateTime(\"2024-04-30T00:00:01.868\"), DateTime(\"2…\n",
       "  :ins_Status_flag         => UInt8[0x01, 0x01, 0x01, 0x01, 0x01, 0x01, 0x01, 0…\n",
       "  :heading                 => Float32[204.8, 204.74, 204.68, 204.65, 204.64, 20…\n",
       "  :checksum                => [\"3A\", \"30\", \"39\", \"1B\", \"3C\", \"34\", \"34\", \"3C\", …\n",
       "  :time                    => [DateTime(\"2024-04-30T00:00:01.840\"), DateTime(\"2…\n",
       "  :pitch_accuracy          => Float32[0.022, 0.022, 0.022, 0.022, 0.022, 0.022,…\n",
       "  :heading_accuracy        => Float32[0.016, 0.016, 0.016, 0.016, 0.016, 0.016,…\n",
       "  :trueheading             => Bool[1, 1, 1, 1, 1, 1, 1, 1, 1, 1  …  1, 1, 1, 1,…\n",
       "  :heave                   => Float32[0.26, 0.15, 0.04, -0.08, -0.21, -0.35, -0…\n",
       "  :gpstime                 => Time[00:00:02.729, 00:00:03.229, 00:00:03.729, 00…\n",
       "  :roll                    => Float32[-1.29, -1.52, -1.7, -1.83, -1.91, -1.9, -…\n",
       "  :pitch                   => Float32[0.58, 0.51, 0.36, 0.14, -0.12, -0.4, -0.6…\n",
       "  :roll_accuracy           => Float32[0.022, 0.022, 0.022, 0.022, 0.022, 0.022,…\n",
       "  :gps_update_quality_flag => UInt8[0x02, 0x02, 0x02, 0x02, 0x02, 0x01, 0x01, 0…"
      ]
     },
     "execution_count": 23,
     "metadata": {},
     "output_type": "execute_result"
    }
   ],
   "source": [
    "Pashr"
   ]
  },
  {
   "cell_type": "markdown",
   "metadata": {},
   "source": [
    "Need to window the data in little sections and sync the time coordinates."
   ]
  },
  {
   "cell_type": "code",
   "execution_count": 73,
   "metadata": {},
   "outputs": [
    {
     "data": {
      "image/png": "[encoded data removed]",
      "text/plain": [
       "Figure(PyObject <Figure size 640x480 with 1 Axes>)"
      ]
     },
     "metadata": {},
     "output_type": "display_data"
    },
    {
     "data": {
      "text/plain": [
       "1-element Vector{PyCall.PyObject}:\n",
       " PyObject <matplotlib.lines.Line2D object at 0x3eb864b20>"
      ]
     },
     "execution_count": 73,
     "metadata": {},
     "output_type": "execute_result"
    }
   ],
   "source": [
    "# window and sync time series\n",
    "\n",
    "\"posmv and vectornav indices for requested UTC DateTime start and epoch length TimePeriod\"\n",
    "function daylimits(utcdt::DateTime=DateTime(2024,6,1,6,0,0), epoch::Period=Minute(3), leapseconds=18)\n",
    "    post = findfirst( posmvdt .>= utcdt )\n",
    "    poen = findlast(  posmvdt .<= utcdt + epoch )\n",
    "    vnst = findfirst( vndt    .>= utcdt + Second(leapseconds) ) # view +18 leapseconds forward to agree with UTC\n",
    "    vnen = findlast(  vndt    .<= utcdt + Second(leapseconds) + epoch )\n",
    "    post, poen, vnst, vnen\n",
    "end\n",
    "\n",
    "sample_factor = 9.94 #9.933333 # 9.95 not quite 10 = 20 Hz / 2 Hz\n",
    "# Vn actually samples slightly slower than 10x the speed of POSMV\n",
    "# so stepping by 10 Vn gets ahead of alignment with POSMV.\n",
    "# Need to advance one index less (9 rather than 10) every 167 samples\n",
    "\n",
    "# example time series synced by hand in vectornav.ipynb\n",
    "post, poen, vnst, vnen = daylimits(DateTime(2024,6,1,6,10,0), Minute(3)) # June 1 1st day of Vn2\n",
    "# this example window has a lag of ~20 s (`vectornav.ipynb`) \n",
    "# substract 20 s from vndt to match same signal at same time\n",
    "# indices vnst:vnen already shift for the 18 leapseconds;\n",
    "# at this time, need to shift forward 40 indices for the 2 s.\n",
    "vn_offset = 40\n",
    "# indices for Vn that line up with POSMV\n",
    "vv = round.(Integer, range(vn_offset+vnst, step=sample_factor, length=poen-post+1))\n",
    "pp = post:poen\n",
    "# plot demonstrates that it's synced\n",
    "clf()\n",
    "subplot(2,1,1)\n",
    "plot(posmvdt[post:poen], anom(Pashr[:pitch][post:poen]))\n",
    "plot(posmvdt[post:poen], anom(Vn[:Roll][vv]), label=\"VectorNav\")\n",
    "plot(posmvdt[post:poen], 100.0 .*θrate[post:poen], label=\"rate\")\n",
    "plot(posmvdt[post:poen], 100.0 .*anom(θrate[post:poen]), label=\"rate\")\n",
    "plot(posmvdt[[post, poen]], [0,0], color=\"k\", linewidth=0.5)\n",
    "# gcf()"
   ]
  },
  {
   "cell_type": "code",
   "execution_count": 79,
   "metadata": {},
   "outputs": [
    {
     "data": {
      "text/plain": [
       "1×3 transpose(::Vector{Float64}) with eltype Float64:\n",
       " 52.3627  1.37599  151.521"
      ]
     },
     "execution_count": 79,
     "metadata": {},
     "output_type": "execute_result"
    }
   ],
   "source": [
    "# regress moment vector L\n",
    "M = stack(angle_vec(θ[p], ϕ[p], θrate[p], ϕrate[p]) for p in post:poen)\n",
    "w = w_lidar[vv] - w_posmv[post:poen] # 360\n",
    "L = transpose(M) \\ anom(w) # regress\n",
    "# L1 = transpose(anom(w)) / M\n",
    "\n",
    "# values don't look right, but does solve consistently with slight variations in rotations"
   ]
  },
  {
   "cell_type": "markdown",
   "metadata": {},
   "source": [
    "If pitch is strapped down, but roll is stabilized, \n",
    "then set roll $\\phi=0$ to rotation matrices ($\\sin\\phi=0, \\cos\\phi=1$) into the partly stabilized lidar coordinate system.\n",
    "Since the ship is still moving, linear velocities at the lidar are still induced by the nonzero pitch and roll angular rates:\n",
    "    \n",
    "    V = V_angles(θ, 0, fft_derivative(θ)/dt, fft_derivative(ϕ)/dt)\n",
    "\n",
    "Clarification:\n",
    "The VectorNav `VelNED2` measures heave rate in the geographic untilted plumb frame.\n",
    "\n",
    "*Probably* the POSMV heave is in the geographic plumb frame.\n",
    "\n",
    "POSMV `heave` is a DISPLACEMENT; differentiate it to get a RATE."
   ]
  },
  {
   "cell_type": "code",
   "execution_count": null,
   "metadata": {},
   "outputs": [],
   "source": []
  }
 ],
 "metadata": {
  "kernelspec": {
   "display_name": "Julia 1.10.4",
   "language": "julia",
   "name": "julia-1.10"
  },
  "language_info": {
   "file_extension": ".jl",
   "mimetype": "application/julia",
   "name": "julia",
   "version": "1.10.4"
  }
 },
 "nbformat": 4,
 "nbformat_minor": 2
}
