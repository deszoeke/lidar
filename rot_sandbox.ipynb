{
 "cells": [
  {
   "cell_type": "code",
   "execution_count": 1,
   "metadata": {},
   "outputs": [
    {
     "name": "stderr",
     "output_type": "stream",
     "text": [
      "\u001b[32m\u001b[1m  Activating\u001b[22m\u001b[39m project at `~/Projects/ASTRAL/lidar`\n"
     ]
    }
   ],
   "source": [
    "using Revise\n",
    "using Pkg; Pkg.activate(\".\")\n",
    "\n",
    "using Dates\n",
    "using Statistics # limited set of methods included in Julia Base\n",
    "using StatsBase  # extends Statistics with more functions\n",
    "using Rotations\n",
    "# using SignalAlignment\n",
    "using Interpolations\n",
    "using PyPlot\n",
    "using JLD2\n",
    "# using MAT"
   ]
  },
  {
   "cell_type": "code",
   "execution_count": 2,
   "metadata": {},
   "outputs": [
    {
     "data": {
      "text/plain": [
       "3×3 RotXY{Float64} with indices SOneTo(3)×SOneTo(3)(0.0872665, 0.174533):\n",
       "  0.984808   0.0         0.173648\n",
       "  0.0151344  0.996195   -0.0858317\n",
       " -0.172987   0.0871557   0.98106"
      ]
     },
     "metadata": {},
     "output_type": "display_data"
    }
   ],
   "source": [
    "# rotations example\n",
    "\n",
    "# RotXY(roll, pitch) # radians\n",
    "# matrix that rotates around y (pitch), then by x (roll) in radians\n",
    "RotXY(10/180*pi, 5/180*pi)"
   ]
  },
  {
   "cell_type": "markdown",
   "metadata": {},
   "source": [
    "For leg 1 we assume it's fully stabilized, so we can measure the difference between the heave at the lidar and at the POSMV.\n",
    "The heave measured by the POSMV is assumed to be vertical, and the heave at the VectorNav on the lidar, is also vertical when stabilized.\n",
    "In this case, the displacement moments $(L_x, L_y, L_z)$ between the lidar and the POSMV are responsible for the difference in heave vertical velocity at the lidar $w$ compared to the POSMV $w_0$,\n",
    "$$\n",
    "w' = w - w_0 = A\\theta + B\\phi,\\\\\n",
    "A = (L_x^2 + L_z^2)^{1/2},\\\\\n",
    "B = (L_y^2 + L_z^2)^{1/2}\n",
    "$$\n",
    "where $\\theta$ is the pitch and $\\phi$ is the roll. This is a regression problem for ${\\bf a} = [A; B]$, given $w'$ and $v=[\\theta; \\phi]$.\n",
    "\n",
    "$$\n",
    "{\\bf w'} = {\\bf av}\\\\\n",
    "{\\bf a} = {\\bf w'}{\\bf v}^{-1} = {\\bf v}\\backslash {\\bf w'}\n",
    "$$"
   ]
  },
  {
   "cell_type": "markdown",
   "metadata": {},
   "source": [
    "### Procedure\n",
    "1. Synchronize POSMV pitch and VectorNav roll "
   ]
  }
 ],
 "metadata": {
  "kernelspec": {
   "display_name": "Julia 1.10.4",
   "language": "julia",
   "name": "julia-1.10"
  },
  "language_info": {
   "file_extension": ".jl",
   "mimetype": "application/julia",
   "name": "julia",
   "version": "1.10.4"
  }
 },
 "nbformat": 4,
 "nbformat_minor": 2
}
