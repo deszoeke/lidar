{
 "cells": [
  {
   "cell_type": "markdown",
   "metadata": {},
   "source": [
    "# Motion correction for UND lidar on ASTraL\n",
    "\n",
    "Main unknowns are the\n",
    " 1. _time offsets_ between the lidar, \n",
    "    the UND VectorNav accelerometer-GPS, \n",
    "    and the ship's POSMV accelerometer-GPS; and\n",
    " 2. _relative heading/yaw angle_ of the VectorNav and the lidar,\n",
    "    the VectorNav alignment having rotated about its one screw.\n",
    "\n",
    "Time offsets will have a constant offset, which might shift when \n",
    "one of the clocks is reset to GPS time (or network computer time),\n",
    "and a linear drift due to clocks running slightly relatively \n",
    "faster or slower.\n",
    "s\n",
    "## Solve in stages\n",
    "For any solution, the times need to be right. Find a time\n",
    "nearly synchronized, and then refine it by \n",
    "finding the lag maximizing the autocorrelation\n",
    "of the heave (plus Lx(pitch) + Ly(roll)). \n",
    "Successively slide the window and adjust the lag.\n",
    "\n",
    "The VectorNav yaw angle is very noisy. I trust the heading from\n",
    "\n",
    "The heave "
   ]
  },
  {
   "cell_type": "markdown",
   "metadata": {},
   "source": []
  }
 ],
 "metadata": {
  "kernelspec": {
   "display_name": "julia 1.10.4",
   "language": "julia",
   "name": "julia-1.10"
  },
  "language_info": {
   "name": "julia"
  }
 },
 "nbformat": 4,
 "nbformat_minor": 2
}
