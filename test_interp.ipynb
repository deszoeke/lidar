{
 "cells": [
  {
   "cell_type": "code",
   "execution_count": 33,
   "metadata": {},
   "outputs": [
    {
     "data": {
      "text/plain": [
       "3000000-element Vector{Float64}:\n",
       "  20.0\n",
       "  40.0\n",
       "  60.0\n",
       "  80.0\n",
       " 100.0\n",
       " 120.0\n",
       " 140.0\n",
       " 160.0\n",
       " 180.0\n",
       " 200.0\n",
       " 220.0\n",
       " 240.0\n",
       " 260.0\n",
       "   ⋮\n",
       "   5.999978e7\n",
       "   5.99998e7\n",
       "   5.999982e7\n",
       "   5.999984e7\n",
       "   5.999986e7\n",
       "   5.999988e7\n",
       "   5.99999e7\n",
       "   5.999992e7\n",
       "   5.999994e7\n",
       "   5.999996e7\n",
       "   5.999998e7\n",
       "   3.2727271363636363e7"
      ]
     },
     "execution_count": 33,
     "metadata": {},
     "output_type": "execute_result"
    }
   ],
   "source": [
    "# make simple linear temporal interpolation fast\n",
    "# most time is spent searching for indices\n",
    "# assume indices are evenly spaced\n",
    "\n",
    "\"find indices i such that each xl[i] is the first >= xs.\"\n",
    "function findindices(xs, xl)\n",
    "    ind = zeros(Int64, size(xs))\n",
    "    i = 1\n",
    "    for (j,x) in enumerate(xs)\n",
    "        while xl[i] < x\n",
    "            i += 1\n",
    "        end\n",
    "        ind[j] = i\n",
    "    end\n",
    "    return ind\n",
    "end\n",
    "\n",
    "\"average within +-half points of the index of xl\"\n",
    "function indavg(xl, ind; half=5)\n",
    "    xm = zeros(Float64, size(xs))\n",
    "    for (i,ind) in enumerate(ind)\n",
    "        ii = max(1,ind-half):min(length(xl),ind+half)\n",
    "        xm[i] = sum(Float64.(xl[ii])) / (2*half+1)\n",
    "    end\n",
    "    return xm\n",
    "end\n",
    "\n",
    "# test data\n",
    "xl = 1:60_000_000\n",
    "xs = 20:20:60_000_000\n",
    "\n",
    "ind = findindices(xs, xl)\n",
    "indavg(xl, ind)"
   ]
  },
  {
   "cell_type": "code",
   "execution_count": 34,
   "metadata": {},
   "outputs": [
    {
     "data": {
      "text/plain": [
       "3000000-element Vector{Float64}:\n",
       "  20.0\n",
       "  40.0\n",
       "  60.0\n",
       "  80.0\n",
       " 100.0\n",
       " 120.0\n",
       " 140.0\n",
       " 160.0\n",
       " 180.0\n",
       " 200.0\n",
       " 220.0\n",
       " 240.0\n",
       " 260.0\n",
       "   ⋮\n",
       "   5.999978e7\n",
       "   5.99998e7\n",
       "   5.999982e7\n",
       "   5.999984e7\n",
       "   5.999986e7\n",
       "   5.999988e7\n",
       "   5.99999e7\n",
       "   5.999992e7\n",
       "   5.999994e7\n",
       "   5.999996e7\n",
       "   5.999998e7\n",
       "   3.2727271363636363e7"
      ]
     },
     "execution_count": 34,
     "metadata": {},
     "output_type": "execute_result"
    }
   ],
   "source": [
    "ind = findindices(xs, xl)\n",
    "indavg(xl, ind)"
   ]
  },
  {
   "cell_type": "code",
   "execution_count": 35,
   "metadata": {},
   "outputs": [
    {
     "data": {
      "text/plain": [
       "6.888888888888889"
      ]
     },
     "execution_count": 35,
     "metadata": {},
     "output_type": "execute_result"
    }
   ],
   "source": [
    "31/4.5"
   ]
  },
  {
   "cell_type": "code",
   "execution_count": null,
   "metadata": {},
   "outputs": [],
   "source": []
  }
 ],
 "metadata": {
  "kernelspec": {
   "display_name": "julia 1.10.3",
   "language": "julia",
   "name": "julia-1.10"
  },
  "language_info": {
   "file_extension": ".jl",
   "mimetype": "application/julia",
   "name": "julia",
   "version": "1.10.3"
  }
 },
 "nbformat": 4,
 "nbformat_minor": 2
}
